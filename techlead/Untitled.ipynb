{
 "cells": [
  {
   "cell_type": "code",
   "execution_count": 1,
   "metadata": {},
   "outputs": [
    {
     "name": "stdout",
     "output_type": "stream",
     "text": [
      "Hi, I am Henry\n",
      "Henry\n"
     ]
    }
   ],
   "source": [
    "class Robot:\n",
    " \n",
    "    def __init__(self, name=None):\n",
    "        self.name = name   \n",
    "        \n",
    "    def say_hi(self):\n",
    "        if self.name:\n",
    "            print(\"Hi, I am \" + self.name)\n",
    "        else:\n",
    "            print(\"Hi, I am a robot without a name\")\n",
    "            \n",
    "    def set_name(self, name):\n",
    "        self.name = name\n",
    "        \n",
    "    def get_name(self):\n",
    "        return self.name\n",
    "    \n",
    "\n",
    "x = Robot()\n",
    "x.set_name(\"Henry\")\n",
    "x.say_hi()\n",
    "y = Robot()\n",
    "y.set_name(x.get_name())\n",
    "print(y.get_name())"
   ]
  },
  {
   "cell_type": "code",
   "execution_count": null,
   "metadata": {},
   "outputs": [],
   "source": [
    "class Node:\n",
    "    \n",
    "    Node next\n",
    "    def __init__(self, data):\n",
    "        self.data = data"
   ]
  }
 ],
 "metadata": {
  "kernelspec": {
   "display_name": "Python 3",
   "language": "python",
   "name": "python3"
  },
  "language_info": {
   "codemirror_mode": {
    "name": "ipython",
    "version": 3
   },
   "file_extension": ".py",
   "mimetype": "text/x-python",
   "name": "python",
   "nbconvert_exporter": "python",
   "pygments_lexer": "ipython3",
   "version": "3.7.4"
  }
 },
 "nbformat": 4,
 "nbformat_minor": 2
}
