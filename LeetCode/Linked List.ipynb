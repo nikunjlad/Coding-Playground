{
 "cells": [
  {
   "cell_type": "markdown",
   "metadata": {},
   "source": [
    "## Add 2 numbers - Singly Linked List "
   ]
  },
  {
   "cell_type": "code",
   "execution_count": 1,
   "metadata": {},
   "outputs": [],
   "source": [
    "class ListNode:\n",
    "    \n",
    "    def __init__(self, data=None, next_node=None):\n",
    "        self.data = data\n",
    "        self.next = next_node\n",
    "        \n",
    "    def __repr__(self):\n",
    "        return repr(self.data)\n",
    "    \n",
    "class SinglyLinkedList:\n",
    "    \n",
    "    def __init__(self, head=None):\n",
    "        self.head = head\n",
    "        \n",
    "    def __repr__(self):\n",
    "        \n",
    "        nodes = list()\n",
    "        curr = self.head\n",
    "        \n",
    "        while curr:\n",
    "            nodes.append(repr(curr))\n",
    "            curr = curr.next\n",
    "        \n",
    "        return '[' + ', '.join(nodes) + ']'\n",
    "            \n",
    "    def prepend(self, data):\n",
    "        \n",
    "        self.head = ListNode(data=data, next_node=self.head)\n",
    "        \n",
    "    def append(self, data):\n",
    "        \n",
    "        curr = self.head\n",
    "        \n",
    "        if not curr:\n",
    "            curr.next = ListNode(data=data)\n",
    "            return\n",
    "        \n",
    "        while curr:\n",
    "            curr = curr.next\n",
    "            \n",
    "        curr.next = ListNode(data=data)\n",
    "        \n",
    "    def find(self, data):\n",
    "        \n",
    "        curr = self.head\n",
    "        \n",
    "        while curr and curr.next != key:\n",
    "             curr = curr.next\n",
    "                \n",
    "        return curr\n",
    "    \n",
    "    def remove(self, key):\n",
    "        \n",
    "        curr = self.head\n",
    "        prev = None\n",
    "        \n",
    "        while curr and curr.data != key:\n",
    "            prev = curr\n",
    "            curr = curr.next\n",
    "            \n",
    "        if prev is None:\n",
    "            self.head = curr.next\n",
    "        elif curr:\n",
    "            prev.next = curr.next\n",
    "            curr.next = None\n",
    "            \n",
    "    def reverse(self, data):\n",
    "        \n",
    "        curr = self.head\n",
    "        prev_node = None\n",
    "        next_node = None\n",
    "        \n",
    "        while curr:\n",
    "            next_node = curr.next\n",
    "            curr.next = prev_node\n",
    "            prev_node = curr\n",
    "            curr = next_node\n",
    "            \n",
    "        self.head = prev_node\n",
    "            \n",
    "        "
   ]
  },
  {
   "cell_type": "code",
   "execution_count": 2,
   "metadata": {},
   "outputs": [
    {
     "data": {
      "text/plain": [
       "[]"
      ]
     },
     "execution_count": 2,
     "metadata": {},
     "output_type": "execute_result"
    }
   ],
   "source": [
    "lst = SinglyLinkedList()\n",
    "lst"
   ]
  },
  {
   "cell_type": "code",
   "execution_count": 3,
   "metadata": {},
   "outputs": [
    {
     "data": {
      "text/plain": [
       "[4, 7, 5]"
      ]
     },
     "execution_count": 3,
     "metadata": {},
     "output_type": "execute_result"
    }
   ],
   "source": [
    "lst.prepend(5)\n",
    "lst.prepend(7)\n",
    "lst.prepend(4)\n",
    "lst"
   ]
  },
  {
   "cell_type": "code",
   "execution_count": null,
   "metadata": {},
   "outputs": [],
   "source": []
  }
 ],
 "metadata": {
  "kernelspec": {
   "display_name": "Python 3",
   "language": "python",
   "name": "python3"
  },
  "language_info": {
   "codemirror_mode": {
    "name": "ipython",
    "version": 3
   },
   "file_extension": ".py",
   "mimetype": "text/x-python",
   "name": "python",
   "nbconvert_exporter": "python",
   "pygments_lexer": "ipython3",
   "version": "3.6.5"
  }
 },
 "nbformat": 4,
 "nbformat_minor": 2
}
