{
 "cells": [
  {
   "cell_type": "markdown",
   "metadata": {},
   "source": [
    "## Singly Linked List "
   ]
  },
  {
   "cell_type": "code",
   "execution_count": 1,
   "metadata": {},
   "outputs": [],
   "source": [
    "class ListNode:\n",
    "    \n",
    "    def __init__(self, data=None, next_node=None):\n",
    "        self.data = data  # data in the node\n",
    "        self.next = next_node  # pointer to next node\n",
    "         \n",
    "    def __repr__(self):\n",
    "        return repr(self.data)  # return the data present in the current node\n",
    "    \n",
    "class SinglyLinkedList:\n",
    "    \n",
    "    def __init__(self, head=None):\n",
    "        self.head = head   # the head of the linkedlist\n",
    "        \n",
    "    def __repr__(self):\n",
    "        \"\"\"\n",
    "        This will return entire linkedlist. \n",
    "        \"\"\"\n",
    "        nodes = list()   # create empty list first\n",
    "        curr = self.head   # current pointer is at the head of the list\n",
    "         \n",
    "        while curr:    # while current node has data and does not contains Null, loop over\n",
    "            nodes.append(repr(curr))    # append data of current node to the nodes list\n",
    "            curr = curr.next           # now the current pointer shifts to the next node \n",
    "        \n",
    "        return '[' + ', '.join(nodes) + ']'   # return list of all elements in the linkedlist\n",
    "            \n",
    "    def prepend(self, data):\n",
    "        \"\"\"\n",
    "        When you prepend data to a linkedlist, that data node becomes your head. Prepending always happens to the\n",
    "        left end of the linkedlist. Appending happens to the right of the linkedlist\n",
    "        \"\"\"\n",
    "        self.head = ListNode(data=data, next_node=self.head)    # head contains data and next values points to earlier None\n",
    "        \n",
    "    def append(self, data):\n",
    "        \"\"\"\n",
    "        When you append data to linkedlist, you add elements to the right of the list. However, the head stays \n",
    "        at the leftmost element position.\n",
    "        \"\"\"\n",
    "        # first, if linkedlist is empty, check if the head is None. If None, then create a new Node with passed data\n",
    "        # and return the list containing the current data as the head (first data)\n",
    "        if not self.head:\n",
    "            self.head = ListNode(data=data)\n",
    "            return\n",
    "        \n",
    "        # if however, linkedlist is not empty, the above condition is dis-satisfied and we have current node as the \n",
    "        # head node. \n",
    "        curr = self.head\n",
    "        \n",
    "        # we check if the next node pointed by the current Node exists and is not None. Essentially, we shift our \n",
    "        # focus to the rightmost end of the linkedlist one element at a time until we reach the last second last element\n",
    "        # The second last element points to None (the last element)\n",
    "        while curr.next:\n",
    "            curr = curr.next\n",
    "            \n",
    "        # since the current variable is now the second last node of the linkedlist, we now append our data to the \n",
    "        # right of the second last element. The new second last node data is our data which we appended and it points to \n",
    "        # None\n",
    "        curr.next = ListNode(data=data)\n",
    "        \n",
    "    def find(self, data):\n",
    "        \"\"\"\n",
    "        To find element in the linkedlist.\n",
    "        \"\"\"\n",
    "        curr = self.head    # current element is the head of the linkedlist\n",
    "        \n",
    "        # while current Node is not None and the data of current Node is not queried data, loop over untill match found\n",
    "        # once match found, the value is printed. For values which do not exist in the list, None is printed\n",
    "        while curr and curr.data != data:\n",
    "            curr = curr.next\n",
    "        \n",
    "        return print(curr)\n",
    "    \n",
    "    def remove(self, key):\n",
    "        \"\"\"\n",
    "        Removes a key from the Singly Linkedlist\n",
    "        \"\"\"\n",
    "        curr = self.head   # current element is head of the linkedlist\n",
    "        prev = None     # previous element is None, since traversal hasn't started yet\n",
    "        count = 0\n",
    "        \n",
    "        # while the current Node exists and the data of the current Node is not the queried data, loop over the Nodes\n",
    "        # while looping over, as the curr variable gets updated to next values present to the right of the linkedlist,\n",
    "        # the previous variable gets updated with current values. \n",
    "        while curr and curr.data != key:\n",
    "            prev = curr\n",
    "            curr = curr.next\n",
    "            \n",
    "        # if prev is None. This usually happens when removing the first element of linkedlist, namely the head\n",
    "        if prev is None:\n",
    "            self.head = curr.next   # simply shift head to second element, and your new linkedlist is void of \n",
    "                                    #first element, i.e. it is removed\n",
    "        elif curr:                  # however, if its not the head of the linkedlist to be removed,\n",
    "            # to remove an element, the pointer of the earlier Node (left of the one to be removed) is to be attached\n",
    "            # to the Node to the right of the current Node. Once the link between Node to left of current Node is made\n",
    "            # with that to the right of the current Node, then make current Node's next pointer to point to None\n",
    "            prev.next = curr.next  \n",
    "            curr.next = None\n",
    "    \n",
    "    def count(self):\n",
    "        \n",
    "        curr = self.head\n",
    "        count = 0\n",
    "        \n",
    "        while curr and curr.data != None:\n",
    "            curr = curr.next\n",
    "            count += 1\n",
    "        \n",
    "        return count\n",
    "    \n",
    "    def reverse(self):\n",
    "        \"\"\"\n",
    "        This is used to reverse the linkedlist\n",
    "        \"\"\"\n",
    "        \n",
    "        curr = self.head    # current Node is the head of the linkedlist\n",
    "        prev_node = None    # previous Node is None\n",
    "        next_node = None    # next Node is None too\n",
    "        \n",
    "        # while the current Node exists and is not None\n",
    "        while curr:\n",
    "            # delink the current node from the next one, by placing the next node to a temporary variable\n",
    "            next_node = curr.next     \n",
    "            # having delinked the current Node from the linkedlist, we point it to previous Node, which is None initially\n",
    "            curr.next = prev_node\n",
    "            # previous Node, is now the current node.\n",
    "            prev_node = curr\n",
    "            # current node is now the remaining part of the linkedlist minus the first node.\n",
    "            curr = next_node\n",
    "            \n",
    "        # head is now the previous node, i.e the rightmost element of the unreversed linkedlist\n",
    "        self.head = prev_node        "
   ]
  },
  {
   "cell_type": "code",
   "execution_count": 2,
   "metadata": {},
   "outputs": [],
   "source": [
    "l1 = SinglyLinkedList()"
   ]
  },
  {
   "cell_type": "code",
   "execution_count": 3,
   "metadata": {},
   "outputs": [],
   "source": [
    "# appending elements in the linkedlist\n",
    "l1.append(1)\n",
    "l1.append(2)\n",
    "l1.append(3)\n",
    "l1.append(4)\n",
    "l1.append(5)"
   ]
  },
  {
   "cell_type": "code",
   "execution_count": 4,
   "metadata": {},
   "outputs": [
    {
     "data": {
      "text/plain": [
       "[1, 2, 3, 4, 5]"
      ]
     },
     "execution_count": 4,
     "metadata": {},
     "output_type": "execute_result"
    }
   ],
   "source": [
    "l1"
   ]
  },
  {
   "cell_type": "code",
   "execution_count": 5,
   "metadata": {},
   "outputs": [
    {
     "data": {
      "text/plain": [
       "[8, 7, 6, 1, 2, 3, 4, 5]"
      ]
     },
     "execution_count": 5,
     "metadata": {},
     "output_type": "execute_result"
    }
   ],
   "source": [
    "# prepending elements to the linkedlist\n",
    "l1.prepend(6)\n",
    "l1.prepend(7)\n",
    "l1.prepend(8)\n",
    "l1"
   ]
  },
  {
   "cell_type": "code",
   "execution_count": 6,
   "metadata": {},
   "outputs": [
    {
     "name": "stdout",
     "output_type": "stream",
     "text": [
      "8\n"
     ]
    }
   ],
   "source": [
    "# find if element exists in the linkedlist and return the element if found\n",
    "l1.find(8)"
   ]
  },
  {
   "cell_type": "code",
   "execution_count": 7,
   "metadata": {},
   "outputs": [
    {
     "data": {
      "text/plain": [
       "[8, 7, 6, 2, 3, 4, 5]"
      ]
     },
     "execution_count": 7,
     "metadata": {},
     "output_type": "execute_result"
    }
   ],
   "source": [
    "# remove elements from the linkedlist\n",
    "l1.remove(1)\n",
    "l1"
   ]
  },
  {
   "cell_type": "code",
   "execution_count": 8,
   "metadata": {},
   "outputs": [
    {
     "data": {
      "text/plain": [
       "7"
      ]
     },
     "execution_count": 8,
     "metadata": {},
     "output_type": "execute_result"
    }
   ],
   "source": [
    "# number of elements in the linkedlist\n",
    "l1.count()"
   ]
  },
  {
   "cell_type": "code",
   "execution_count": 9,
   "metadata": {},
   "outputs": [
    {
     "data": {
      "text/plain": [
       "[5, 4, 3, 2, 6, 7, 8]"
      ]
     },
     "execution_count": 9,
     "metadata": {},
     "output_type": "execute_result"
    }
   ],
   "source": [
    "l1.reverse()\n",
    "l1"
   ]
  },
  {
   "cell_type": "code",
   "execution_count": null,
   "metadata": {},
   "outputs": [],
   "source": []
  }
 ],
 "metadata": {
  "kernelspec": {
   "display_name": "Python 3",
   "language": "python",
   "name": "python3"
  },
  "language_info": {
   "codemirror_mode": {
    "name": "ipython",
    "version": 3
   },
   "file_extension": ".py",
   "mimetype": "text/x-python",
   "name": "python",
   "nbconvert_exporter": "python",
   "pygments_lexer": "ipython3",
   "version": "3.6.5"
  }
 },
 "nbformat": 4,
 "nbformat_minor": 2
}
