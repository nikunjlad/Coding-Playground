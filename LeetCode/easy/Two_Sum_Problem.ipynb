{
 "cells": [
  {
   "cell_type": "markdown",
   "metadata": {},
   "source": [
    "# 2 sum problem"
   ]
  },
  {
   "cell_type": "markdown",
   "metadata": {},
   "source": [
    "Given an array of integers, return indices of the two numbers such that they add up to a specific target.\n",
    "You may assume that each input would have exactly one solution, and you may not use the same element twice.\n",
    "\n",
    "Example:\n",
    "\n",
    "Given nums = [2, 7, 11, 15], target = 9, <br/>\n",
    "Because nums[0] + nums[1] = 2 + 7 = 9, <br/>\n",
    "return [0, 1]."
   ]
  },
  {
   "cell_type": "markdown",
   "metadata": {},
   "source": [
    "### Method 1 : Linear Search technique"
   ]
  },
  {
   "cell_type": "code",
   "execution_count": 6,
   "metadata": {},
   "outputs": [
    {
     "name": "stdout",
     "output_type": "stream",
     "text": [
      "[1, 2]\n"
     ]
    }
   ],
   "source": [
    "def twoSum(nums, target):\n",
    "    \n",
    "    k = 0  # initial index counter\n",
    "    \n",
    "    # loop over the array elements\n",
    "    for ele in nums:\n",
    "        k += 1  # increment index counter by 1\n",
    "        \n",
    "        # if the second number is anywhere after the current index to end of the array\n",
    "        if target - ele in nums[k:]:\n",
    "            \n",
    "            # append the previous index and the index where you found the second element in the array.\n",
    "            return [k-1, nums[k:].index(target - ele) + k]\n",
    "\n",
    "val = twoSum([3,2,4], 6)\n",
    "print(val)"
   ]
  },
  {
   "cell_type": "markdown",
   "metadata": {},
   "source": [
    "### Method 2 : Using hash table in the form of dictionary."
   ]
  },
  {
   "cell_type": "code",
   "execution_count": 2,
   "metadata": {},
   "outputs": [
    {
     "name": "stdout",
     "output_type": "stream",
     "text": [
      "[1, 2]\n"
     ]
    }
   ],
   "source": [
    "def twoPass(nums, target):\n",
    "    hash_table = {}  # defining a dictionary\n",
    "    \n",
    "    # for all indices and number in the array list\n",
    "    for i, num in enumerate(nums):\n",
    "        \n",
    "        # if second number exists in dictionary\n",
    "        if target - num in hash_table:\n",
    "            \n",
    "            # return index corresponding to that number from the dictionary\n",
    "            return [hash_table[target - num], i]\n",
    "            break\n",
    "        hash_table[num] = i  # if number not present in dictionary, then add the number and its index into the dict\n",
    "    return []\n",
    "\n",
    "val = twoPass([3,2,4], 6)\n",
    "print(val)"
   ]
  },
  {
   "cell_type": "code",
   "execution_count": 3,
   "metadata": {},
   "outputs": [
    {
     "name": "stdout",
     "output_type": "stream",
     "text": [
      "1\n"
     ]
    }
   ],
   "source": [
    "a = {3: 0, 2: 1}\n",
    "if 2 in a:\n",
    "    print(a[2])"
   ]
  },
  {
   "cell_type": "code",
   "execution_count": null,
   "metadata": {},
   "outputs": [],
   "source": []
  }
 ],
 "metadata": {
  "kernelspec": {
   "display_name": "Python 3",
   "language": "python",
   "name": "python3"
  },
  "language_info": {
   "codemirror_mode": {
    "name": "ipython",
    "version": 3
   },
   "file_extension": ".py",
   "mimetype": "text/x-python",
   "name": "python",
   "nbconvert_exporter": "python",
   "pygments_lexer": "ipython3",
   "version": "3.6.5"
  }
 },
 "nbformat": 4,
 "nbformat_minor": 2
}
