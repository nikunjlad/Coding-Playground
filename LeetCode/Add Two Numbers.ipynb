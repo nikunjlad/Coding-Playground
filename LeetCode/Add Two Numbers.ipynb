{
 "cells": [
  {
   "cell_type": "code",
   "execution_count": 1,
   "metadata": {},
   "outputs": [],
   "source": [
    "class ListNode:\n",
    "    def __init__(self, x):\n",
    "        self.val = x\n",
    "        self.next = None\n",
    "        \n",
    "    def __repr__(self):\n",
    "        return repr(self.val)  # return the data present in the current node\n",
    "\n",
    "class Solution:\n",
    "    \n",
    "    def __init__(self, head=None):\n",
    "        self.head = head   # the head of the linkedlist\n",
    "        \n",
    "    def __repr__(self):\n",
    "        \"\"\"\n",
    "        This will return entire linkedlist. \n",
    "        \"\"\"\n",
    "        nodes = list()   # create empty list first\n",
    "        curr = self.head   # current pointer is at the head of the list\n",
    "         \n",
    "        while curr:    # while current node has data and does not contains Null, loop over\n",
    "            nodes.append(repr(curr))    # append data of current node to the nodes list\n",
    "            curr = curr.next           # now the current pointer shifts to the next node \n",
    "        \n",
    "        return '[' + ', '.join(nodes) + ']'   # return list of all elements in the linkedlist\n",
    "    \n",
    "    def append(self, data: int) -> None:\n",
    "        \"\"\"\n",
    "        When you append data to linkedlist, you add elements to the right of the list. However, the head stays \n",
    "        at the leftmost element position.\n",
    "        \"\"\"\n",
    "        # first, if linkedlist is empty, check if the head is None. If None, then create a new Node with passed data\n",
    "        # and return the list containing the current data as the head (first data)\n",
    "        if not self.head:\n",
    "            self.head = ListNode(x=data)\n",
    "            return\n",
    "        \n",
    "        # if however, linkedlist is not empty, the above condition is dis-satisfied and we have current node as the \n",
    "        # head node. \n",
    "        curr = self.head\n",
    "        \n",
    "        # we check if the next node pointed by the current Node exists and is not None. Essentially, we shift our \n",
    "        # focus to the rightmost end of the linkedlist one element at a time until we reach the last second last element\n",
    "        # The second last element points to None (the last element)\n",
    "        while curr.next:\n",
    "            curr = curr.next\n",
    "            \n",
    "        # since the current variable is now the second last node of the linkedlist, we now append our data to the \n",
    "        # right of the second last element. The new second last node data is our data which we appended and it points to \n",
    "        # None\n",
    "        curr.next = ListNode(x=data)\n",
    "        \n",
    "    def addTwoNumbers(self, l1: ListNode, l2: ListNode) -> ListNode:\n",
    "        if l1 == None:\n",
    "            return l2\n",
    "        \n",
    "        if l2 == None:\n",
    "            return l1\n",
    "        \n",
    "        carry = (l1.val + l2.val) // 10   # quotient\n",
    "        added = ListNode((l1.val + l2.val) % 10)   # remainder\n",
    "        original = added\n",
    "        \n",
    "        while l1.next != None and l2.next != None:\n",
    "            carry += l1.next.val\n",
    "            carry += l2.next.val + 0\n",
    "            added.next = ListNode((carry % 10))\n",
    "            carry = carry // 10\n",
    "            l1 = l1.next\n",
    "            l2 = l2.next\n",
    "            added = added.next\n",
    "            \n",
    "        if l1.next == None:\n",
    "            l1.next = l2.next\n",
    "            \n",
    "        while l1.next != None:\n",
    "            carry += l1.next.val\n",
    "            added.next = ListNode((carry % 10))\n",
    "            carry = carry // 10\n",
    "            l1 = l1.next\n",
    "            added = added.next\n",
    "        \n",
    "        if carry > 0:\n",
    "            added.next = ListNode(carry)\n",
    "        \n",
    "        l3.head = original\n",
    "        "
   ]
  },
  {
   "cell_type": "code",
   "execution_count": 2,
   "metadata": {},
   "outputs": [],
   "source": [
    "l1 = Solution()"
   ]
  },
  {
   "cell_type": "code",
   "execution_count": 3,
   "metadata": {},
   "outputs": [],
   "source": [
    "l1.append(3)\n",
    "l1.append(4)\n",
    "l1.append(2)"
   ]
  },
  {
   "cell_type": "code",
   "execution_count": 4,
   "metadata": {},
   "outputs": [
    {
     "data": {
      "text/plain": [
       "[3, 4, 2]"
      ]
     },
     "execution_count": 4,
     "metadata": {},
     "output_type": "execute_result"
    }
   ],
   "source": [
    "l1"
   ]
  },
  {
   "cell_type": "code",
   "execution_count": 5,
   "metadata": {},
   "outputs": [],
   "source": [
    "l2 = Solution()"
   ]
  },
  {
   "cell_type": "code",
   "execution_count": 6,
   "metadata": {},
   "outputs": [],
   "source": [
    "l2.append(4)\n",
    "l2.append(6)\n",
    "l2.append(5)"
   ]
  },
  {
   "cell_type": "code",
   "execution_count": 7,
   "metadata": {},
   "outputs": [
    {
     "data": {
      "text/plain": [
       "[4, 6, 5]"
      ]
     },
     "execution_count": 7,
     "metadata": {},
     "output_type": "execute_result"
    }
   ],
   "source": [
    "l2"
   ]
  },
  {
   "cell_type": "code",
   "execution_count": 8,
   "metadata": {},
   "outputs": [],
   "source": [
    "l3 = Solution()"
   ]
  },
  {
   "cell_type": "code",
   "execution_count": 9,
   "metadata": {},
   "outputs": [
    {
     "data": {
      "text/plain": [
       "[7, 0, 8]"
      ]
     },
     "execution_count": 9,
     "metadata": {},
     "output_type": "execute_result"
    }
   ],
   "source": [
    "l3.addTwoNumbers(l1.head, l2.head)\n",
    "l3"
   ]
  },
  {
   "cell_type": "code",
   "execution_count": null,
   "metadata": {},
   "outputs": [],
   "source": []
  }
 ],
 "metadata": {
  "kernelspec": {
   "display_name": "Python 3",
   "language": "python",
   "name": "python3"
  },
  "language_info": {
   "codemirror_mode": {
    "name": "ipython",
    "version": 3
   },
   "file_extension": ".py",
   "mimetype": "text/x-python",
   "name": "python",
   "nbconvert_exporter": "python",
   "pygments_lexer": "ipython3",
   "version": "3.6.5"
  }
 },
 "nbformat": 4,
 "nbformat_minor": 2
}
