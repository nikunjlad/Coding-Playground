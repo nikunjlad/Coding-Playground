{
 "cells": [
  {
   "cell_type": "code",
   "execution_count": 1,
   "metadata": {},
   "outputs": [],
   "source": [
    "class ListNode:\n",
    "    def __init__(self, x):\n",
    "        self.val = x\n",
    "        self.next = None\n",
    "\n",
    "class Solution:\n",
    "    def addTwoNumbers(self, l1: ListNode, l2: ListNode) -> ListNode:\n",
    "        if l1 == None:\n",
    "            return l2\n",
    "        \n",
    "        if l2 == None:\n",
    "            return l1\n",
    "        \n",
    "        carry = (l1.val + l2.val) // 10   # quotient\n",
    "        added = ListNode((l1.val + l2.val) % 10)   # remainder\n",
    "        original = added\n",
    "        \n",
    "        while l1.next != None and l2.next != None:\n",
    "            carry += l1.next.val\n",
    "            carry += l2.next.val + 0\n",
    "            added.next = ListNode((carry % 10))\n",
    "            carry = carry // 10\n",
    "            l1 = l1.next\n",
    "            l2 = l2.next\n",
    "            added = added.next\n",
    "            \n",
    "        if l1.next == None:\n",
    "            l1.next = l2.next\n",
    "            \n",
    "        while l1.next != None:\n",
    "            carry += l1.next.val\n",
    "            added.next = ListNode((carry % 10))\n",
    "            carry = carry // 10\n",
    "            l1 = l1.next\n",
    "            added = added.next\n",
    "        \n",
    "        if carry > 0:\n",
    "            added.next = ListNode(carry)\n",
    "            \n",
    "        return original"
   ]
  },
  {
   "cell_type": "code",
   "execution_count": null,
   "metadata": {},
   "outputs": [],
   "source": []
  }
 ],
 "metadata": {
  "kernelspec": {
   "display_name": "Python 3",
   "language": "python",
   "name": "python3"
  },
  "language_info": {
   "codemirror_mode": {
    "name": "ipython",
    "version": 3
   },
   "file_extension": ".py",
   "mimetype": "text/x-python",
   "name": "python",
   "nbconvert_exporter": "python",
   "pygments_lexer": "ipython3",
   "version": "3.6.5"
  }
 },
 "nbformat": 4,
 "nbformat_minor": 2
}
