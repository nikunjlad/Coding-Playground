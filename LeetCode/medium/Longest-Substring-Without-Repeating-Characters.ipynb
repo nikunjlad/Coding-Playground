{
 "cells": [
  {
   "cell_type": "markdown",
   "metadata": {},
   "source": [
    "# Longest Substring without repeating characters\n",
    "\n",
    "\n",
    "Given a string, find the length of the longest substring without repeating characters.\n",
    "\n",
    "Example 1:\n",
    "\n",
    "Input: \"abcabcbb\" <br>\n",
    "Output: 3  <br>\n",
    "Explanation: The answer is \"abc\", with the length of 3. <br>\n",
    "\n",
    "Example 2:\n",
    "\n",
    "Input: \"bbbbb\" <br>\n",
    "Output: 1 <br>\n",
    "Explanation: The answer is \"b\", with the length of 1. <br>\n",
    "\n",
    "Example 3:\n",
    "\n",
    "Input: \"pwwkew\" <br>\n",
    "Output: 3 <br>\n",
    "Explanation: The answer is \"wke\", with the length of 3. Note that the answer must be a substring, \"pwke\" is a subsequence and not a substring."
   ]
  },
  {
   "cell_type": "code",
   "execution_count": 140,
   "metadata": {},
   "outputs": [],
   "source": [
    "class Solution:\n",
    "    def lengthOfLongestSubstring(self, s: str) -> int:\n",
    "        \n",
    "#         count = 0\n",
    "#         word = dict()\n",
    "        \n",
    "#         if s == \"\":\n",
    "#             return 0\n",
    "#         elif s == \" \":\n",
    "#             return 1\n",
    "        \n",
    "#         sub = []\n",
    "#         index = 0\n",
    "#         max_len = 0\n",
    "        \n",
    "#         for letter in s[index:]:\n",
    "            \n",
    "#             if letter not in word.keys():\n",
    "#                 word[letter] = 1\n",
    "#             sub.append(letter)\n",
    "#             print(sub)\n",
    "#             if len(sub) == len(set(sub)):\n",
    "#                 count += 1\n",
    "#             else:\n",
    "#                 sub = list()\n",
    "#                 count = 0\n",
    "#                 index += 1\n",
    "            \n",
    "#             print(index)\n",
    "#             if count > max_len:\n",
    "#                     max_len = count\n",
    "                    \n",
    "        NO_OF_CHARS = 256\n",
    "        n = len(s) \n",
    "        cur_len = 1        # To store the length of current substring \n",
    "        max_len = 1        # To store the result \n",
    "        prev_index = 0    # To store the previous index \n",
    "        i = 0\n",
    "\n",
    "        # Initialize the visited array as -1, -1 is used to indicate \n",
    "        # that character has not been visited yet. \n",
    "        visited = [-1] * NO_OF_CHARS \n",
    "\n",
    "        # Mark first character as visited by storing the index of \n",
    "        # first character in visited array. \n",
    "        visited[ord(s[0])] = 0\n",
    "\n",
    "        # Start from the second character. First character is already \n",
    "        # processed (cur_len and max_len are initialized as 1, and \n",
    "        # visited[str[0]] is set \n",
    "        for i in range(1, n): \n",
    "            prev_index = visited[ord(s[i])] \n",
    "\n",
    "            # If the currentt character is not present in the already \n",
    "            # processed substring or it is not part of the current NRCS, \n",
    "            # then do cur_len++ \n",
    "            if prev_index == -1 or (i - cur_len > prev_index): \n",
    "                cur_len+= 1\n",
    "\n",
    "            # If the current character is present in currently considered \n",
    "            # NRCS, then update NRCS to start from the next character of \n",
    "            # previous instance. \n",
    "            else: \n",
    "                # Also, when we are changing the NRCS, we should also \n",
    "                # check whether length of the previous NRCS was greater \n",
    "                # than max_len or not. \n",
    "                if cur_len > max_len: \n",
    "                    max_len = cur_len \n",
    "\n",
    "                cur_len = i - prev_index \n",
    "\n",
    "            # update the index of current character \n",
    "            visited[ord(s[i])] = i \n",
    "\n",
    "        # Compare the length of last NRCS with max_len and update \n",
    "        # max_len if needed \n",
    "        if cur_len > max_len: \n",
    "            max_len = cur_len \n",
    "\n",
    "        return max_len "
   ]
  },
  {
   "cell_type": "code",
   "execution_count": 141,
   "metadata": {},
   "outputs": [
    {
     "ename": "IndexError",
     "evalue": "list assignment index out of range",
     "output_type": "error",
     "traceback": [
      "\u001b[0;31m---------------------------------------------------------------------------\u001b[0m",
      "\u001b[0;31mIndexError\u001b[0m                                Traceback (most recent call last)",
      "\u001b[0;32m<ipython-input-141-dd0f34f1a155>\u001b[0m in \u001b[0;36m<module>\u001b[0;34m\u001b[0m\n\u001b[1;32m      1\u001b[0m \u001b[0ms\u001b[0m \u001b[0;34m=\u001b[0m \u001b[0mSolution\u001b[0m\u001b[0;34m(\u001b[0m\u001b[0;34m)\u001b[0m\u001b[0;34m\u001b[0m\u001b[0m\n\u001b[0;32m----> 2\u001b[0;31m \u001b[0ms\u001b[0m\u001b[0;34m.\u001b[0m\u001b[0mlengthOfLongestSubstring\u001b[0m\u001b[0;34m(\u001b[0m\u001b[0;34m\" \"\u001b[0m\u001b[0;34m)\u001b[0m\u001b[0;34m\u001b[0m\u001b[0m\n\u001b[0m",
      "\u001b[0;32m<ipython-input-140-b174e55cbfef>\u001b[0m in \u001b[0;36mlengthOfLongestSubstring\u001b[0;34m(self, s)\u001b[0m\n\u001b[1;32m     42\u001b[0m         \u001b[0;31m# Mark first character as visited by storing the index of\u001b[0m\u001b[0;34m\u001b[0m\u001b[0;34m\u001b[0m\u001b[0m\n\u001b[1;32m     43\u001b[0m         \u001b[0;31m# first character in visited array.\u001b[0m\u001b[0;34m\u001b[0m\u001b[0;34m\u001b[0m\u001b[0m\n\u001b[0;32m---> 44\u001b[0;31m         \u001b[0mvisited\u001b[0m\u001b[0;34m[\u001b[0m\u001b[0mord\u001b[0m\u001b[0;34m(\u001b[0m\u001b[0ms\u001b[0m\u001b[0;34m[\u001b[0m\u001b[0;36m0\u001b[0m\u001b[0;34m]\u001b[0m\u001b[0;34m)\u001b[0m\u001b[0;34m]\u001b[0m \u001b[0;34m=\u001b[0m \u001b[0;36m0\u001b[0m\u001b[0;34m\u001b[0m\u001b[0m\n\u001b[0m\u001b[1;32m     45\u001b[0m \u001b[0;34m\u001b[0m\u001b[0m\n\u001b[1;32m     46\u001b[0m         \u001b[0;31m# Start from the second character. First character is already\u001b[0m\u001b[0;34m\u001b[0m\u001b[0;34m\u001b[0m\u001b[0m\n",
      "\u001b[0;31mIndexError\u001b[0m: list assignment index out of range"
     ]
    }
   ],
   "source": [
    "s = Solution()\n",
    "s.lengthOfLongestSubstring(\" \")"
   ]
  },
  {
   "cell_type": "code",
   "execution_count": 122,
   "metadata": {},
   "outputs": [
    {
     "data": {
      "text/plain": [
       "3"
      ]
     },
     "execution_count": 122,
     "metadata": {},
     "output_type": "execute_result"
    }
   ],
   "source": [
    "a = [\"a\", \"b\", \"a\"]\n",
    "len(a)"
   ]
  },
  {
   "cell_type": "code",
   "execution_count": 13,
   "metadata": {},
   "outputs": [
    {
     "data": {
      "text/plain": [
       "2"
      ]
     },
     "execution_count": 13,
     "metadata": {},
     "output_type": "execute_result"
    }
   ],
   "source": [
    "a = [\"a\", \"b\", \"a\"]\n",
    "len(set(a))"
   ]
  },
  {
   "cell_type": "code",
   "execution_count": 15,
   "metadata": {},
   "outputs": [
    {
     "name": "stdout",
     "output_type": "stream",
     "text": [
      "e\n",
      "l\n",
      "l\n",
      "o\n"
     ]
    }
   ],
   "source": [
    "for i in \"hello\"[1:]:\n",
    "    print(i)"
   ]
  },
  {
   "cell_type": "code",
   "execution_count": 93,
   "metadata": {},
   "outputs": [
    {
     "data": {
      "text/plain": [
       "'b'"
      ]
     },
     "execution_count": 93,
     "metadata": {},
     "output_type": "execute_result"
    }
   ],
   "source": [
    "a = \"aab\"\n",
    "a[:]"
   ]
  },
  {
   "cell_type": "code",
   "execution_count": 86,
   "metadata": {},
   "outputs": [
    {
     "data": {
      "text/plain": [
       "'b'"
      ]
     },
     "execution_count": 86,
     "metadata": {},
     "output_type": "execute_result"
    }
   ],
   "source": [
    "a[2:]"
   ]
  },
  {
   "cell_type": "code",
   "execution_count": 101,
   "metadata": {},
   "outputs": [
    {
     "name": "stdout",
     "output_type": "stream",
     "text": [
      "hi\n"
     ]
    }
   ],
   "source": [
    "a = {\"a\":1, \"b\":2}\n",
    "if \"a\" in a.keys():\n",
    "    print(\"hi\")"
   ]
  },
  {
   "cell_type": "code",
   "execution_count": 105,
   "metadata": {},
   "outputs": [
    {
     "data": {
      "text/plain": [
       "97"
      ]
     },
     "execution_count": 105,
     "metadata": {},
     "output_type": "execute_result"
    }
   ],
   "source": [
    "ord(\"a\")"
   ]
  },
  {
   "cell_type": "code",
   "execution_count": null,
   "metadata": {},
   "outputs": [],
   "source": []
  }
 ],
 "metadata": {
  "kernelspec": {
   "display_name": "Python 3",
   "language": "python",
   "name": "python3"
  },
  "language_info": {
   "codemirror_mode": {
    "name": "ipython",
    "version": 3
   },
   "file_extension": ".py",
   "mimetype": "text/x-python",
   "name": "python",
   "nbconvert_exporter": "python",
   "pygments_lexer": "ipython3",
   "version": "3.6.5"
  }
 },
 "nbformat": 4,
 "nbformat_minor": 2
}
