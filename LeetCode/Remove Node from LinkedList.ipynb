{
 "cells": [
  {
   "cell_type": "code",
   "execution_count": 22,
   "metadata": {},
   "outputs": [],
   "source": [
    "class ListNode:\n",
    "    def __init__(self, x):\n",
    "        self.data = x\n",
    "        self.next = None\n",
    "    \n",
    "    def __repr__(self):\n",
    "        return repr(self.data)  # return the data present in the current node\n",
    "\n",
    "class Solution:\n",
    "    \n",
    "    def __init__(self, head=None):\n",
    "        self.head = head   # the head of the linkedlist\n",
    "        \n",
    "    def __repr__(self):\n",
    "        \"\"\"\n",
    "        This will return entire linkedlist. \n",
    "        \"\"\"\n",
    "        nodes = list()   # create empty list first\n",
    "        curr = self.head   # current pointer is at the head of the list\n",
    "         \n",
    "        while curr:    # while current node has data and does not contains Null, loop over\n",
    "            nodes.append(repr(curr))    # append data of current node to the nodes list\n",
    "            curr = curr.next           # now the current pointer shifts to the next node \n",
    "        \n",
    "        return '[' + ', '.join(nodes) + ']'   # return list of all elements in the linkedlist\n",
    "    \n",
    "    def append(self, data: int) -> None:\n",
    "        \"\"\"\n",
    "        When you append data to linkedlist, you add elements to the right of the list. However, the head stays \n",
    "        at the leftmost element position.\n",
    "        \"\"\"\n",
    "        # first, if linkedlist is empty, check if the head is None. If None, then create a new Node with passed data\n",
    "        # and return the list containing the current data as the head (first data)\n",
    "        if not self.head:\n",
    "            self.head = ListNode(x=data)\n",
    "            return\n",
    "        \n",
    "        # if however, linkedlist is not empty, the above condition is dis-satisfied and we have current node as the \n",
    "        # head node. \n",
    "        curr = self.head\n",
    "        \n",
    "        # we check if the next node pointed by the current Node exists and is not None. Essentially, we shift our \n",
    "        # focus to the rightmost end of the linkedlist one element at a time until we reach the last second last element\n",
    "        # The second last element points to None (the last element)\n",
    "        while curr.next:\n",
    "            curr = curr.next\n",
    "            \n",
    "        # since the current variable is now the second last node of the linkedlist, we now append our data to the \n",
    "        # right of the second last element. The new second last node data is our data which we appended and it points to \n",
    "        # None\n",
    "        curr.next = ListNode(x=data)\n",
    "        \n",
    "    def removeNthFromEnd(self, head: ListNode, n: int) -> ListNode:\n",
    "        \n",
    "        curr = head\n",
    "        len_lst = 0\n",
    "        \n",
    "        while curr:\n",
    "            curr = curr.next\n",
    "            len_lst += 1\n",
    "            \n",
    "        curr = head \n",
    "        lst = head\n",
    "        prev = None\n",
    "        counter = 1\n",
    "        \n",
    "        toRemove=len_lst-n+1\n",
    "        \n",
    "        if(toRemove==counter):\n",
    "            return head.next\n",
    "        \n",
    "        while curr and len_lst - counter != n-1:\n",
    "            prev = curr\n",
    "            curr = curr.next\n",
    "            counter += 1\n",
    "            \n",
    "        if prev is None:\n",
    "            head = curr.next\n",
    "        elif curr:\n",
    "            prev.next = curr.next\n",
    "            curr.next = None"
   ]
  },
  {
   "cell_type": "code",
   "execution_count": 23,
   "metadata": {},
   "outputs": [],
   "source": [
    "lst = Solution()"
   ]
  },
  {
   "cell_type": "code",
   "execution_count": 24,
   "metadata": {},
   "outputs": [
    {
     "data": {
      "text/plain": [
       "[1, 2, 3, 4, 5]"
      ]
     },
     "execution_count": 24,
     "metadata": {},
     "output_type": "execute_result"
    }
   ],
   "source": [
    "lst.append(1)\n",
    "lst.append(2)\n",
    "lst.append(3)\n",
    "lst.append(4)\n",
    "lst.append(5)\n",
    "lst"
   ]
  },
  {
   "cell_type": "code",
   "execution_count": 25,
   "metadata": {},
   "outputs": [
    {
     "data": {
      "text/plain": [
       "[1, 2, 3, 5]"
      ]
     },
     "execution_count": 25,
     "metadata": {},
     "output_type": "execute_result"
    }
   ],
   "source": [
    "lst.removeNthFromEnd(lst.head, 2)\n",
    "lst"
   ]
  },
  {
   "cell_type": "code",
   "execution_count": null,
   "metadata": {},
   "outputs": [],
   "source": []
  },
  {
   "cell_type": "code",
   "execution_count": null,
   "metadata": {},
   "outputs": [],
   "source": []
  }
 ],
 "metadata": {
  "kernelspec": {
   "display_name": "Python 3",
   "language": "python",
   "name": "python3"
  },
  "language_info": {
   "codemirror_mode": {
    "name": "ipython",
    "version": 3
   },
   "file_extension": ".py",
   "mimetype": "text/x-python",
   "name": "python",
   "nbconvert_exporter": "python",
   "pygments_lexer": "ipython3",
   "version": "3.6.5"
  }
 },
 "nbformat": 4,
 "nbformat_minor": 2
}
