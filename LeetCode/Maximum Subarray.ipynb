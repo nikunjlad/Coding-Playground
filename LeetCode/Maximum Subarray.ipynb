{
 "cells": [
  {
   "cell_type": "markdown",
   "metadata": {},
   "source": [
    "# Maximum Subarray\n",
    "\n",
    "Given an integer array nums, find the contiguous subarray (containing at least one number) which has the largest sum and return its sum\n",
    "\n",
    "Input: [-2,1,-3,4,-1,2,1,-5,4], <br>\n",
    "Output: 6 <br>\n",
    "Explanation: [4,-1,2,1] has the largest sum = 6."
   ]
  },
  {
   "cell_type": "code",
   "execution_count": 3,
   "metadata": {},
   "outputs": [],
   "source": [
    "from typing import List\n",
    "\n",
    "class Solution:\n",
    "    \n",
    "    def maxSubArray(self, nums: List[int]) -> int:\n",
    "        \n",
    "        current_max = global_max = nums[0]\n",
    "        \n",
    "        for i in range(len(nums) - 1):\n",
    "            \n",
    "            current_max = max(nums[i+1], current_max + nums[i+1])\n",
    "            \n",
    "            if current_max > global_max:\n",
    "                global_max = current_max\n",
    "                \n",
    "        return global_max"
   ]
  },
  {
   "cell_type": "code",
   "execution_count": 4,
   "metadata": {},
   "outputs": [
    {
     "name": "stdout",
     "output_type": "stream",
     "text": [
      "6\n"
     ]
    }
   ],
   "source": [
    "s = Solution()\n",
    "g = s.maxSubArray([-2,1,-3,4,-1,2,1,-5,4])\n",
    "print(g)"
   ]
  },
  {
   "cell_type": "code",
   "execution_count": null,
   "metadata": {},
   "outputs": [],
   "source": []
  }
 ],
 "metadata": {
  "kernelspec": {
   "display_name": "Python 3",
   "language": "python",
   "name": "python3"
  },
  "language_info": {
   "codemirror_mode": {
    "name": "ipython",
    "version": 3
   },
   "file_extension": ".py",
   "mimetype": "text/x-python",
   "name": "python",
   "nbconvert_exporter": "python",
   "pygments_lexer": "ipython3",
   "version": "3.6.5"
  }
 },
 "nbformat": 4,
 "nbformat_minor": 4
}
