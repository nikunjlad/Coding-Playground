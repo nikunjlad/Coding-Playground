{
 "cells": [
  {
   "cell_type": "markdown",
   "metadata": {},
   "source": [
    "# Fashion-MNIST Classifier\n",
    "\n",
    "4 fundamental steps:\n",
    "\n",
    "1. Prepare data\n",
    "2. Build the model\n",
    "3. Train the model\n",
    "4. Analyze the model's result\n",
    "\n",
    "We start off with the first method of preparing the data using concept of ETL (Extract-Transform-Load)"
   ]
  },
  {
   "cell_type": "code",
   "execution_count": 4,
   "metadata": {},
   "outputs": [],
   "source": [
    "# import relevant libraries\n",
    "import torch   # top level package\n",
    "import torchvision  # provides access to popular datasets and transformations\n",
    "import torchvision.transforms as transforms   # interface which gives access to common image transformations\n",
    "from torch.utils.data import DataLoader, Dataset, TensorDataset\n",
    "import matplotlib.pyplot as plt\n",
    "import numpy as np\n",
    "import torch.nn as nn\n",
    "import cv2\n",
    "torch.set_printoptions(linewidth=120)   # sets the line width for pytorch console"
   ]
  },
  {
   "cell_type": "markdown",
   "metadata": {},
   "source": [
    "1. extract: Get the Fashion-MNIST image data\n",
    "2. transform: Transform the data into tensor form\n",
    "3. load: Put our data into object form which is easily accessible\n",
    "\n",
    "For this PyTorch provides 2 classes, **Dataset** class and **Dataloader**.\n",
    "\n",
    "## Dataset and Dataloaders with an example of custom dataset\n",
    "\n",
    "**Dataset** is an abstract class for representing a dataset. An **abstract** class is a Python class that has methods which we must implement, so that we can create a custom dataset by creating a subclass."
   ]
  },
  {
   "cell_type": "code",
   "execution_count": 5,
   "metadata": {},
   "outputs": [],
   "source": [
    "class subclass(Dataset):\n",
    "    def __init__(self, data):\n",
    "        self.data = data\n",
    "        \n",
    "    def __getitem__(self, index):\n",
    "        sample = self.data[:,:-2]\n",
    "        label = self.data[:,-1]\n",
    "        return sample, label\n",
    "    \n",
    "    def __len__(self):\n",
    "        return len(self.data)\n",
    "    "
   ]
  },
  {
   "cell_type": "markdown",
   "metadata": {},
   "source": [
    "An abstract class named subclass is implemented by inheriting the abstract class \n",
    "Dataset. The abstract class has __init__(), __getitem__() and __len__() functions.\n",
    "These functions can be customized to load our custom dataset. "
   ]
  },
  {
   "cell_type": "markdown",
   "metadata": {},
   "source": [
    "## Dataset transformation\n",
    "\n",
    "torchvision.datasets contains functions to create and transform a custom dataset or any of the inbuilt torch provided datasets."
   ]
  },
  {
   "cell_type": "code",
   "execution_count": 6,
   "metadata": {},
   "outputs": [],
   "source": [
    "train_set = torchvision.datasets.FashionMNIST(root=\"/home/nikunjlad/data/FashionMNIST\",\n",
    "                                             train=True, download=True,\n",
    "                                             transform=transforms.Compose([transforms.ToTensor()]))"
   ]
  },
  {
   "cell_type": "markdown",
   "metadata": {},
   "source": [
    "Let's explore the arguments:\n",
    "\n",
    "1. root: the directory on disk to save the data\n",
    "2. train: it tells us we want the training data\n",
    "3. download: it tells the class to download the data\n",
    "4. transform: we pass a composition of transformations. since we want tensor format, we have ToTensor() transformation"
   ]
  },
  {
   "cell_type": "code",
   "execution_count": 7,
   "metadata": {},
   "outputs": [
    {
     "data": {
      "text/plain": [
       "Dataset FashionMNIST\n",
       "    Number of datapoints: 60000\n",
       "    Root location: /home/nikunjlad/data/FashionMNIST\n",
       "    Split: Train\n",
       "    StandardTransform\n",
       "Transform: Compose(\n",
       "               ToTensor()\n",
       "           )"
      ]
     },
     "execution_count": 7,
     "metadata": {},
     "output_type": "execute_result"
    }
   ],
   "source": [
    "train_set"
   ]
  },
  {
   "cell_type": "markdown",
   "metadata": {},
   "source": [
    "The train_set variable as seen above contains information on the dataset which we just extracted and transformed. I has various parameters and information into it which helps us gain more knowledge about this variable. Let's explore the various functionality provided by this dataset variable. You can access these functionality or additional metadata using **.(dot)** after the variable name as below:"
   ]
  },
  {
   "cell_type": "code",
   "execution_count": 8,
   "metadata": {},
   "outputs": [
    {
     "name": "stdout",
     "output_type": "stream",
     "text": [
      "{'T-shirt/top': 0, 'Trouser': 1, 'Pullover': 2, 'Dress': 3, 'Coat': 4, 'Sandal': 5, 'Shirt': 6, 'Sneaker': 7, 'Bag': 8, 'Ankle boot': 9}\n",
      "---------------------\n",
      "['T-shirt/top', 'Trouser', 'Pullover', 'Dress', 'Coat', 'Sandal', 'Shirt', 'Sneaker', 'Bag', 'Ankle boot']\n"
     ]
    }
   ],
   "source": [
    "# this maps class labels to integer indices\n",
    "print(train_set.class_to_idx)\n",
    "print(\"---------------------\")\n",
    "print(train_set.classes)   # print all the classes present in this dataset"
   ]
  },
  {
   "cell_type": "code",
   "execution_count": 9,
   "metadata": {},
   "outputs": [
    {
     "name": "stdout",
     "output_type": "stream",
     "text": [
      "torch.Size([60000, 28, 28])\n",
      "torch.Size([60000, 28, 28])\n",
      "torch.Size([60000, 28, 28])\n"
     ]
    },
    {
     "name": "stderr",
     "output_type": "stream",
     "text": [
      "/home/nikunjlad/.local/lib/python3.6/site-packages/torchvision/datasets/mnist.py:55: UserWarning: train_data has been renamed data\n",
      "  warnings.warn(\"train_data has been renamed data\")\n",
      "/home/nikunjlad/.local/lib/python3.6/site-packages/torchvision/datasets/mnist.py:60: UserWarning: test_data has been renamed data\n",
      "  warnings.warn(\"test_data has been renamed data\")\n"
     ]
    }
   ],
   "source": [
    "# contains the actual training data, we can also get shape as below.\n",
    "# dont use test_data and train_data. instead use data. see warnings\n",
    "train_set.data\n",
    "print(train_set.train_data.shape)\n",
    "print(train_set.test_data.shape)\n",
    "print(train_set.data.shape)"
   ]
  },
  {
   "cell_type": "code",
   "execution_count": 10,
   "metadata": {},
   "outputs": [
    {
     "name": "stdout",
     "output_type": "stream",
     "text": [
      "<bound method MNIST.download of Dataset FashionMNIST\n",
      "    Number of datapoints: 60000\n",
      "    Root location: /home/nikunjlad/data/FashionMNIST\n",
      "    Split: Train\n",
      "    StandardTransform\n",
      "Transform: Compose(\n",
      "               ToTensor()\n",
      "           )>\n",
      "-----------------\n",
      "<bound method MNIST.extra_repr of Dataset FashionMNIST\n",
      "    Number of datapoints: 60000\n",
      "    Root location: /home/nikunjlad/data/FashionMNIST\n",
      "    Split: Train\n",
      "    StandardTransform\n",
      "Transform: Compose(\n",
      "               ToTensor()\n",
      "           )>\n"
     ]
    }
   ],
   "source": [
    "# gives download information of the dataset like number of datapoints, location of the data on disk, transformations applied, etc\n",
    "print(train_set.download)\n",
    "print(\"-----------------\")\n",
    "print(train_set.extra_repr)"
   ]
  },
  {
   "cell_type": "code",
   "execution_count": 11,
   "metadata": {},
   "outputs": [
    {
     "name": "stdout",
     "output_type": "stream",
     "text": [
      "/home/nikunjlad/data/FashionMNIST/FashionMNIST/processed\n",
      "/home/nikunjlad/data/FashionMNIST/FashionMNIST/raw\n"
     ]
    }
   ],
   "source": [
    "# location of the folder where processed amd raw images are stored in .pt format (pytorch format)\n",
    "print(train_set.processed_folder)\n",
    "print(train_set.raw_folder)"
   ]
  },
  {
   "cell_type": "code",
   "execution_count": 12,
   "metadata": {},
   "outputs": [
    {
     "data": {
      "text/plain": [
       "[('http://fashion-mnist.s3-website.eu-central-1.amazonaws.com/train-images-idx3-ubyte.gz',\n",
       "  '8d4fb7e6c68d591d4c3dfef9ec88bf0d'),\n",
       " ('http://fashion-mnist.s3-website.eu-central-1.amazonaws.com/train-labels-idx1-ubyte.gz',\n",
       "  '25c81989df183df01b3e8a0aad5dffbe'),\n",
       " ('http://fashion-mnist.s3-website.eu-central-1.amazonaws.com/t10k-images-idx3-ubyte.gz',\n",
       "  'bef4ecab320f06d8554ea6380940ec79'),\n",
       " ('http://fashion-mnist.s3-website.eu-central-1.amazonaws.com/t10k-labels-idx1-ubyte.gz',\n",
       "  'bb300cfdad3c16e7a12a480ee83cd310')]"
      ]
     },
     "execution_count": 12,
     "metadata": {},
     "output_type": "execute_result"
    }
   ],
   "source": [
    "# gives the URLs from where the resource are fetched from. \n",
    "train_set.resources"
   ]
  },
  {
   "cell_type": "code",
   "execution_count": 13,
   "metadata": {},
   "outputs": [
    {
     "data": {
      "text/plain": [
       "'/home/nikunjlad/data/FashionMNIST'"
      ]
     },
     "execution_count": 13,
     "metadata": {},
     "output_type": "execute_result"
    }
   ],
   "source": [
    "# root data directory where both the processed and raw data lie\n",
    "train_set.root"
   ]
  },
  {
   "cell_type": "code",
   "execution_count": 14,
   "metadata": {},
   "outputs": [
    {
     "name": "stdout",
     "output_type": "stream",
     "text": [
      "tensor([9, 0, 0,  ..., 3, 0, 5])\n",
      "tensor([9, 0, 0,  ..., 3, 0, 5])\n",
      "tensor([9, 0, 0,  ..., 3, 0, 5])\n"
     ]
    },
    {
     "name": "stderr",
     "output_type": "stream",
     "text": [
      "/home/nikunjlad/.local/lib/python3.6/site-packages/torchvision/datasets/mnist.py:45: UserWarning: train_labels has been renamed targets\n",
      "  warnings.warn(\"train_labels has been renamed targets\")\n",
      "/home/nikunjlad/.local/lib/python3.6/site-packages/torchvision/datasets/mnist.py:50: UserWarning: test_labels has been renamed targets\n",
      "  warnings.warn(\"test_labels has been renamed targets\")\n"
     ]
    }
   ],
   "source": [
    "# target corresponding to 60000 images in the dataset\n",
    "# dont use test_labels and train_labels. instead use targets. see warnings\n",
    "print(train_set.targets)\n",
    "print(train_set.train_labels)\n",
    "print(train_set.test_labels)"
   ]
  },
  {
   "cell_type": "code",
   "execution_count": 15,
   "metadata": {},
   "outputs": [
    {
     "name": "stdout",
     "output_type": "stream",
     "text": [
      "test.pt\n",
      "training.pt\n"
     ]
    }
   ],
   "source": [
    "# name of the test file and training file\n",
    "print(train_set.test_file)\n",
    "print(train_set.training_file)"
   ]
  },
  {
   "cell_type": "code",
   "execution_count": 16,
   "metadata": {},
   "outputs": [
    {
     "data": {
      "text/plain": [
       "True"
      ]
     },
     "execution_count": 16,
     "metadata": {},
     "output_type": "execute_result"
    }
   ],
   "source": [
    "# is this training data?\n",
    "train_set.train"
   ]
  },
  {
   "cell_type": "code",
   "execution_count": 17,
   "metadata": {},
   "outputs": [
    {
     "name": "stdout",
     "output_type": "stream",
     "text": [
      "StandardTransform\n",
      "Transform: Compose(\n",
      "               ToTensor()\n",
      "           )\n",
      "Compose(\n",
      "    ToTensor()\n",
      ")\n"
     ]
    }
   ],
   "source": [
    "# which kind of transformations did we apply on the data\n",
    "print(train_set.transforms)\n",
    "# both results are kind of similar\n",
    "print(train_set.transform)"
   ]
  },
  {
   "cell_type": "markdown",
   "metadata": {},
   "source": [
    "## Dataloader class and its properties\n",
    "\n",
    "Dataloader is used to load the extracted and transformed data generated by Dataset class. This creates a dataloader object which is a form suitable for training, since data is batched, sampled, shuffled, etc here"
   ]
  },
  {
   "cell_type": "code",
   "execution_count": 18,
   "metadata": {},
   "outputs": [
    {
     "data": {
      "text/plain": [
       "<torch.utils.data.dataloader.DataLoader at 0x7f1c2cd30a90>"
      ]
     },
     "execution_count": 18,
     "metadata": {},
     "output_type": "execute_result"
    }
   ],
   "source": [
    "train_loader = DataLoader(train_set)\n",
    "train_loader"
   ]
  },
  {
   "cell_type": "markdown",
   "metadata": {},
   "source": [
    "As we can see, once the dataset is loaded, we get a pytorch dataloader object. This object too has many options which gives various information about the dataloader object. Let's, explore them all"
   ]
  },
  {
   "cell_type": "code",
   "execution_count": 19,
   "metadata": {},
   "outputs": [
    {
     "name": "stdout",
     "output_type": "stream",
     "text": [
      "1\n",
      "1\n"
     ]
    }
   ],
   "source": [
    "print(train_loader.batch_sampler.batch_size)  # returns default batch_size\n",
    "print(train_loader.batch_size)   # use this preferably"
   ]
  },
  {
   "cell_type": "code",
   "execution_count": 20,
   "metadata": {},
   "outputs": [
    {
     "data": {
      "text/plain": [
       "<function torch.utils.data._utils.collate.default_collate(batch)>"
      ]
     },
     "execution_count": 20,
     "metadata": {},
     "output_type": "execute_result"
    }
   ],
   "source": [
    "# this is used when loading map-style of datasets. (need to explore iterable stype vs map style)\n",
    "train_loader.collate_fn   "
   ]
  },
  {
   "cell_type": "code",
   "execution_count": 21,
   "metadata": {},
   "outputs": [
    {
     "name": "stdout",
     "output_type": "stream",
     "text": [
      "Dataset FashionMNIST\n",
      "    Number of datapoints: 60000\n",
      "    Root location: /home/nikunjlad/data/FashionMNIST\n",
      "    Split: Train\n",
      "    StandardTransform\n",
      "Transform: Compose(\n",
      "               ToTensor()\n",
      "           )\n",
      "--------------------\n",
      "Dataset FashionMNIST\n",
      "    Number of datapoints: 60000\n",
      "    Root location: /home/nikunjlad/data/FashionMNIST\n",
      "    Split: Train\n",
      "    StandardTransform\n",
      "Transform: Compose(\n",
      "               ToTensor()\n",
      "           )\n"
     ]
    }
   ],
   "source": [
    "# information of the source from where data generated\n",
    "print(train_loader.dataset)\n",
    "print(\"--------------------\")\n",
    "print(train_loader.batch_sampler.sampler.data_source)   "
   ]
  },
  {
   "cell_type": "code",
   "execution_count": 22,
   "metadata": {},
   "outputs": [
    {
     "name": "stdout",
     "output_type": "stream",
     "text": [
      "False\n",
      "False\n"
     ]
    }
   ],
   "source": [
    "# drops the last incomplete batch of data. If say 100 data and batch size is 30, the last batch of 10 is dropped if True\n",
    "print(train_loader.batch_sampler.drop_last)  # set to false, i.e no dropping \n",
    "print(train_loader.drop_last)  # use this preferably"
   ]
  },
  {
   "cell_type": "code",
   "execution_count": 23,
   "metadata": {},
   "outputs": [
    {
     "data": {
      "text/plain": [
       "0"
      ]
     },
     "execution_count": 23,
     "metadata": {},
     "output_type": "execute_result"
    }
   ],
   "source": [
    "# number of parallel processes to spawn for loading data. Usually configured to be equal to cores present on a machine\n",
    "train_loader.num_workers"
   ]
  },
  {
   "cell_type": "code",
   "execution_count": 24,
   "metadata": {},
   "outputs": [
    {
     "data": {
      "text/plain": [
       "False"
      ]
     },
     "execution_count": 24,
     "metadata": {},
     "output_type": "execute_result"
    }
   ],
   "source": [
    "# if True, dataloaders will COPY tensors to CUDA pinned memory locations\n",
    "train_loader.pin_memory"
   ]
  },
  {
   "cell_type": "code",
   "execution_count": 25,
   "metadata": {},
   "outputs": [
    {
     "data": {
      "text/plain": [
       "0"
      ]
     },
     "execution_count": 25,
     "metadata": {},
     "output_type": "execute_result"
    }
   ],
   "source": [
    "# timeout value for collecting batch of samples from workers\n",
    "train_loader.timeout"
   ]
  },
  {
   "cell_type": "code",
   "execution_count": 26,
   "metadata": {},
   "outputs": [],
   "source": [
    "# generally used with multi processing.\n",
    "train_loader.worker_init_fn"
   ]
  },
  {
   "cell_type": "markdown",
   "metadata": {},
   "source": [
    "We took a detour, so let's get back to loading the data using dataloaders"
   ]
  },
  {
   "cell_type": "markdown",
   "metadata": {},
   "source": [
    "## Continuing with our data preparation..."
   ]
  },
  {
   "cell_type": "code",
   "execution_count": 27,
   "metadata": {},
   "outputs": [],
   "source": [
    "train_set = torchvision.datasets.FashionMNIST(root=\"/home/nikunjlad/data/FashionMNIST\",\n",
    "                                             train=True, download=True,\n",
    "                                             transform=transforms.Compose([transforms.ToTensor()]))\n",
    "train_loader = DataLoader(train_set, batch_size=64)"
   ]
  },
  {
   "cell_type": "code",
   "execution_count": 28,
   "metadata": {},
   "outputs": [
    {
     "data": {
      "text/plain": [
       "60000"
      ]
     },
     "execution_count": 28,
     "metadata": {},
     "output_type": "execute_result"
    }
   ],
   "source": [
    "len(train_set)   # no of training samples"
   ]
  },
  {
   "cell_type": "code",
   "execution_count": 29,
   "metadata": {},
   "outputs": [
    {
     "data": {
      "text/plain": [
       "tensor([9, 0, 0,  ..., 3, 0, 5])"
      ]
     },
     "execution_count": 29,
     "metadata": {},
     "output_type": "execute_result"
    }
   ],
   "source": [
    "train_set.targets # labels"
   ]
  },
  {
   "cell_type": "code",
   "execution_count": 30,
   "metadata": {},
   "outputs": [
    {
     "data": {
      "text/plain": [
       "tensor([6000, 6000, 6000, 6000, 6000, 6000, 6000, 6000, 6000, 6000])"
      ]
     },
     "execution_count": 30,
     "metadata": {},
     "output_type": "execute_result"
    }
   ],
   "source": [
    "# how many samples are there in the 10 classes of Fashion-MNIST. We have\n",
    "# balanced data of 6000 samples. If there is imbalance, then over sampling\n",
    "# will help. This is done by repeating uncommon occurences of data and balance our dataset\n",
    "\n",
    "# Oversampling is said to be the best method\n",
    "train_set.targets.bincount()"
   ]
  },
  {
   "cell_type": "markdown",
   "metadata": {},
   "source": [
    "### OVER SAMPLING is best method of balancing imbalanced data\n",
    "\n",
    "[arXiv publication](https://arxiv.org/abs/1710.05381) for oversampling"
   ]
  },
  {
   "cell_type": "code",
   "execution_count": 31,
   "metadata": {},
   "outputs": [],
   "source": [
    "sample = next(iter(train_set))   # create an iterator of the training data"
   ]
  },
  {
   "cell_type": "code",
   "execution_count": 32,
   "metadata": {},
   "outputs": [
    {
     "data": {
      "text/plain": [
       "2"
      ]
     },
     "execution_count": 32,
     "metadata": {},
     "output_type": "execute_result"
    }
   ],
   "source": [
    "len(sample)   # get length of our sample. we have image-label pairs, hence 2"
   ]
  },
  {
   "cell_type": "code",
   "execution_count": 33,
   "metadata": {},
   "outputs": [
    {
     "data": {
      "text/plain": [
       "tuple"
      ]
     },
     "execution_count": 33,
     "metadata": {},
     "output_type": "execute_result"
    }
   ],
   "source": [
    "type(sample)   # create type of our sample"
   ]
  },
  {
   "cell_type": "code",
   "execution_count": 34,
   "metadata": {},
   "outputs": [],
   "source": [
    "image, label = sample  # sequence unpacking (also called deconstruction of object)"
   ]
  },
  {
   "cell_type": "markdown",
   "metadata": {},
   "source": [
    "**iter()** function creates an iterator object representing a **stream** of data. This object essentially holds a pointer and does not load all the data in memory. This pointer then iterates over all the data elements on invocation of **next()** function. This is analogous to the behaviour of how **generators** work in Python."
   ]
  },
  {
   "cell_type": "markdown",
   "metadata": {},
   "source": [
    "## Displaying some images to understand what our data contains"
   ]
  },
  {
   "cell_type": "code",
   "execution_count": 35,
   "metadata": {},
   "outputs": [
    {
     "data": {
      "text/plain": [
       "torch.Size([1, 28, 28])"
      ]
     },
     "execution_count": 35,
     "metadata": {},
     "output_type": "execute_result"
    }
   ],
   "source": [
    "image.shape"
   ]
  },
  {
   "cell_type": "code",
   "execution_count": 36,
   "metadata": {},
   "outputs": [
    {
     "data": {
      "text/plain": [
       "9"
      ]
     },
     "execution_count": 36,
     "metadata": {},
     "output_type": "execute_result"
    }
   ],
   "source": [
    "label"
   ]
  },
  {
   "cell_type": "code",
   "execution_count": 37,
   "metadata": {},
   "outputs": [
    {
     "name": "stdout",
     "output_type": "stream",
     "text": [
      "label 9\n"
     ]
    },
    {
     "data": {
      "image/png": "[encoded data removed]",
      "text/plain": [
       "<Figure size 432x288 with 1 Axes>"
      ]
     },
     "metadata": {
      "needs_background": "light"
     },
     "output_type": "display_data"
    }
   ],
   "source": [
    "plt.imshow(image.squeeze(), cmap='gray')\n",
    "print(\"label\", label)"
   ]
  },
  {
   "cell_type": "code",
   "execution_count": 38,
   "metadata": {},
   "outputs": [],
   "source": [
    "batch = next(iter(train_loader))"
   ]
  },
  {
   "cell_type": "code",
   "execution_count": 39,
   "metadata": {},
   "outputs": [
    {
     "data": {
      "text/plain": [
       "2"
      ]
     },
     "execution_count": 39,
     "metadata": {},
     "output_type": "execute_result"
    }
   ],
   "source": [
    "len(batch)  # batches still contain images and labels, but now a list instead of single image-label pair"
   ]
  },
  {
   "cell_type": "code",
   "execution_count": 40,
   "metadata": {},
   "outputs": [
    {
     "data": {
      "text/plain": [
       "list"
      ]
     },
     "execution_count": 40,
     "metadata": {},
     "output_type": "execute_result"
    }
   ],
   "source": [
    "type(batch)  # its a list, instead of a tuple"
   ]
  },
  {
   "cell_type": "code",
   "execution_count": 41,
   "metadata": {},
   "outputs": [],
   "source": [
    "images, labels = batch   # we get first batch"
   ]
  },
  {
   "cell_type": "code",
   "execution_count": 42,
   "metadata": {},
   "outputs": [
    {
     "data": {
      "text/plain": [
       "torch.Size([64, 1, 28, 28])"
      ]
     },
     "execution_count": 42,
     "metadata": {},
     "output_type": "execute_result"
    }
   ],
   "source": [
    "images.shape   # rank 4 tensor of 64 gray scale images of shape 28x28"
   ]
  },
  {
   "cell_type": "code",
   "execution_count": 43,
   "metadata": {},
   "outputs": [
    {
     "data": {
      "text/plain": [
       "torch.Size([64])"
      ]
     },
     "execution_count": 43,
     "metadata": {},
     "output_type": "execute_result"
    }
   ],
   "source": [
    "labels.shape   # rank 1 having 64 labels corresponding to above data"
   ]
  },
  {
   "cell_type": "markdown",
   "metadata": {},
   "source": [
    "Just like for training set which had data which could be accessed individually, the training dataloader has batches of data configured so that it can be accessed efficiently. This helps us in doing essentially the same thing as we did before but now on batches of data"
   ]
  },
  {
   "cell_type": "code",
   "execution_count": 44,
   "metadata": {},
   "outputs": [
    {
     "name": "stdout",
     "output_type": "stream",
     "text": [
      "labels tensor([9, 0, 0, 3, 0, 2, 7, 2, 5, 5])\n"
     ]
    },
    {
     "data": {
      "image/png": "[encoded data removed]",
      "text/plain": [
       "<Figure size 1080x1080 with 1 Axes>"
      ]
     },
     "metadata": {
      "needs_background": "light"
     },
     "output_type": "display_data"
    }
   ],
   "source": [
    "# of the 64 images in the batches, we select the first 10 and display it \n",
    "# in a grid using torchvision.utils make_grid() function\n",
    "grid = torchvision.utils.make_grid(images[:10], nrow=10)\n",
    "\n",
    "plt.figure(figsize=(15,15))\n",
    "plt.imshow(np.transpose(grid, (1,2,0)))\n",
    "\n",
    "print(\"labels\", labels[:10])"
   ]
  },
  {
   "cell_type": "markdown",
   "metadata": {},
   "source": [
    "## Building our Neural Network Model\n",
    "\n",
    "We need to use, **torch.nn.Module** class. \n",
    "\n",
    "Class is like a blueprint, where people / things of similar nature / functionality exist. <br>\n",
    "### Methods and Attributes\n",
    "Objects are like the actual people / things which exist in a class. There can be multiple objects of a class, just like multiple students exist in a class. Those objects can perform all functions mentioned in the class. Simply put, all students can write, read and listen / understand to things taught in class. Yet each student reads / writes / listens in a different manner based on the inputs it receives or their own indifferences. When an object is created, we call it an **Instance** of a class. The Instance usually has 2 properties:<br>\n",
    "\n",
    "1. **Methods** : represent the code or behavior of the object. For example, a student can run, sing, write, read, eat, etc. These things are behaviour methods of a class. \n",
    "2. **Attributes** : they represent the data of the object. They hold the data which is to be used by the methods. Inshort they help us know the objects (student's) characteristics. For example, gender (male/female), age, grade level, athlete (yes/no), etc. They define characteristics of the object.\n",
    "<br><br>\n",
    "Recall, that a class is a **BluePrint** of the object. It does not contain actual information, but is customizable based on user information. **Methods** are standalone and consistent across the class, but the **Attributes** are customizable parameters.\n",
    "\n",
    "### Encapsulation\n",
    "An object has it's own set of attributes and can access all the methods of the class. An object therefore holds both information of attributes and methods, since it can access both of them uniquely. This packaging of attributes and methods into a single class is called **Encapsulation**."
   ]
  },
  {
   "cell_type": "code",
   "execution_count": 2,
   "metadata": {},
   "outputs": [
    {
     "name": "stdout",
     "output_type": "stream",
     "text": [
      "Jack cannot play basketball\n",
      "Mike can play basketball!\n"
     ]
    }
   ],
   "source": [
    "class Students:\n",
    "    \n",
    "    def __init__(self, name, height):\n",
    "        self.name = name\n",
    "        self.height = height\n",
    "        \n",
    "    def play(self):\n",
    "        \n",
    "        if self.height >= 6:\n",
    "            print(\"{} can play basketball!\".format(self.name))\n",
    "        else:\n",
    "            print(\"{} cannot play basketball\".format(self.name))\n",
    "    \n",
    "s = Students(\"Jack\", 5)\n",
    "s.play()\n",
    "s.name = \"Mike\"\n",
    "s.height = 6\n",
    "s.play()"
   ]
  },
  {
   "cell_type": "markdown",
   "metadata": {},
   "source": [
    "### Inheritance\n",
    "PyTorch has an inbuilt neural network library which is named torch.nn<br>\n",
    "There is a base class called **Module** which has all the functionality. i.e it has all the neural networks modules for constructing our model. This means all layers in PyTorch **extends** the nn.Module class. This concept of a class extending another class to gain access of it's attributes and methods is called **Inheritance**.\n",
    "<br><br>\n",
    "We inherit the **nn.Module** class to get all the functionality of the neural networks into our code. Inshort, if we imagine neural networks to be one large function, then layers are functions and our network is a **composition** of all those functions. Layers and networks are kind of similar in nature due to above analogy.\n",
    "\n",
    "### Understanding forward propagation\n",
    "A tensor passes through our network via each layer and undergoes transformation performed on it by each layer. This process of tensor flowing forward through the network is known as **forward pass** or **forward propagation**. Each layer has its own transformations and overall forward pass transformation of the network is the collection of all the transformations from these individual layers.<br>\n",
    "<br>\n",
    "Every **nn.Module** class has a **forward()** method which needs to be implemented in order to provide forward pass information. We need to implement the forward() method everytime we need to design our model.\n",
    "<br><br>\n",
    "When we implement the **forward()** function, we typically call the **nn.Functional** module. It provides packages for implementing our forward function."
   ]
  },
  {
   "cell_type": "code",
   "execution_count": 45,
   "metadata": {},
   "outputs": [],
   "source": [
    "class Net(nn.Module):  # inheriting the nn.Module class\n",
    "    def __init__(self):\n",
    "        super(Net, self).__init__()\n",
    "        self.conv1 = nn.Conv2d(in_channels=1, out_channels=6, kernel_size=5)\n",
    "        self.conv2 = nn.Conv2d(in_channels=6, out_channels=12, kernel_size=5)\n",
    "        \n",
    "        self.fc1 = nn.Linear(in_features=12*4*4, out_features=120)\n",
    "        self.fc2 = nn.Linear(in_features=120, out_features=60)\n",
    "        self.out = nn.Linear(in_features=60, out_features=10)\n",
    "        \n",
    "    \"\"\"\n",
    "    Implementation of forward function takes in a tensor t and transforms it using the dummy layer.\n",
    "    \"\"\"\n",
    "    def forward(self, t):\n",
    "        t = self.layer(t)\n",
    "        return t"
   ]
  },
  {
   "cell_type": "markdown",
   "metadata": {},
   "source": [
    "The Module class is keeping track of the networks weights which are contained within each layer. \n",
    "<br>\n",
    "Linear layers are also called **Dense** layers"
   ]
  },
  {
   "cell_type": "code",
   "execution_count": 46,
   "metadata": {},
   "outputs": [
    {
     "data": {
      "text/plain": [
       "Net(\n",
       "  (conv1): Conv2d(1, 6, kernel_size=(5, 5), stride=(1, 1))\n",
       "  (conv2): Conv2d(6, 12, kernel_size=(5, 5), stride=(1, 1))\n",
       "  (fc1): Linear(in_features=192, out_features=120, bias=True)\n",
       "  (fc2): Linear(in_features=120, out_features=60, bias=True)\n",
       "  (out): Linear(in_features=60, out_features=10, bias=True)\n",
       ")"
      ]
     },
     "execution_count": 46,
     "metadata": {},
     "output_type": "execute_result"
    }
   ],
   "source": [
    "# we get the network architecture here.\n",
    "net = Net()\n",
    "net"
   ]
  },
  {
   "cell_type": "markdown",
   "metadata": {},
   "source": [
    "We get a good string representation of our network object above. This is because we have extended the nn.Module class which prints this. If we remove it, then we get just an object reference of the Net() class like below:"
   ]
  },
  {
   "cell_type": "code",
   "execution_count": 47,
   "metadata": {},
   "outputs": [
    {
     "data": {
      "text/plain": [
       "<__main__.Net at 0x7f1c24dfc518>"
      ]
     },
     "execution_count": 47,
     "metadata": {},
     "output_type": "execute_result"
    }
   ],
   "source": [
    "class Net():  # inheriting the nn.Module class\n",
    "    def __init__(self):\n",
    "#         super(Net, self).__init__()\n",
    "        self.conv1 = nn.Conv2d(in_channels=1, out_channels=6, kernel_size=5)\n",
    "        self.conv2 = nn.Conv2d(in_channels=6, out_channels=12, kernel_size=5)\n",
    "        \n",
    "        self.fc1 = nn.Linear(in_features=12*4*4, out_features=120)\n",
    "        self.fc2 = nn.Linear(in_features=120, out_features=60)\n",
    "        self.out = nn.Linear(in_features=60, out_features=10)\n",
    "        \n",
    "    \"\"\"\n",
    "    Implementation of forward function takes in a tensor t and transforms it using the dummy layer.\n",
    "    \"\"\"\n",
    "    def forward(self, t):\n",
    "        t = self.layer(t)\n",
    "        return t\n",
    "\n",
    "## This is just used for illustration purposes. \n",
    "net = Net()\n",
    "net"
   ]
  },
  {
   "cell_type": "markdown",
   "metadata": {},
   "source": [
    "We use **__repr__** we can have a valuable message to be displayed when we print an object. Special OOP methods in python are called **Dunder methods**. They are called Dunder because of **Double Underscore**.\n",
    "<br><br>\n",
    "Stride helps us define how much do we need to shift the kernel to the right and below during convolution operation."
   ]
  },
  {
   "cell_type": "markdown",
   "metadata": {},
   "source": [
    "## Argument vs Parameters\n",
    "\n",
    "Parameters are used inside function definition. They act as placeholders. They are like local variables.<br>\n",
    "Arguments are actual values which are passed into the functions. Values comes from outside the function to inside. \n",
    "<br>\n",
    "2 types of parameters enter the network:\n",
    "1. hyperparameter\n",
    "2. data dependent hyperparameters.\n",
    "<br>\n",
    "When we contruct a layer we pass parameters and values to the layers. For convolutional layers we have 3 parameters and for FC layers we have 2 parameters.\n",
    "<br>\n",
    "\n",
    "**Hyperparameters** values are chosen manually or arbitrarily. Manually choosing hyperparameters include **kernel_size**, **out_channels** and **out_features**, etc.\n",
    "<br><br>\n",
    "Data dependent hyperparameters include, **input channels** which is equal to depth of the image (either 1 or 3) and **output features** (i.e number of classes in the dataset)"
   ]
  },
  {
   "cell_type": "markdown",
   "metadata": {},
   "source": [
    "## Filters vs Kernels\n",
    "\n",
    "A kernel is a small nxn matrix which traverses over the image. They are usually odd numbered (preferably, like 3x3, 5x5, 7x7, etc) but can be even numbered too like 2x2 or 4x4.\n",
    "<br><br>\n",
    "A filter is basically a collection of kernels. \n",
    "<br><br>\n",
    "**Output channels** are equal to **# of filters**. They are commonly known as **Feature Maps**. If we are dealing with linear layers we don't call them feature maps, since they are a rank 1 tensor"
   ]
  },
  {
   "cell_type": "markdown",
   "metadata": {},
   "source": [
    "## Learnable parameters\n",
    "\n",
    "Learnable parameters are parameters whose values are trained during training process. We typically start with an arbitrary set of values and they get updated iteratively as the network learns.\n",
    "<br><br>\n",
    "Our objective is to train the network so that it can **learn** the best set of these parameters in order to **minimize** the error it makes (i.e loss function)\n",
    "<br><br>\n",
    "These parameters are commonly called **weights**."
   ]
  },
  {
   "cell_type": "code",
   "execution_count": 48,
   "metadata": {},
   "outputs": [
    {
     "data": {
      "text/plain": [
       "Net(\n",
       "  (conv1): Conv2d(3, 6, kernel_size=(5, 5), stride=(1, 1))\n",
       "  (conv2): Conv2d(6, 12, kernel_size=(5, 5), stride=(1, 1))\n",
       "  (fc1): Linear(in_features=192, out_features=120, bias=True)\n",
       "  (fc2): Linear(in_features=120, out_features=60, bias=True)\n",
       "  (out): Linear(in_features=60, out_features=10, bias=True)\n",
       ")"
      ]
     },
     "execution_count": 48,
     "metadata": {},
     "output_type": "execute_result"
    }
   ],
   "source": [
    "class Net(nn.Module):  # inheriting the nn.Module class\n",
    "    def __init__(self):\n",
    "        super(Net, self).__init__()\n",
    "        self.conv1 = nn.Conv2d(in_channels=3, out_channels=6, kernel_size=5)\n",
    "        self.conv2 = nn.Conv2d(in_channels=6, out_channels=12, kernel_size=5)\n",
    "        \n",
    "        self.fc1 = nn.Linear(in_features=12*4*4, out_features=120)\n",
    "        self.fc2 = nn.Linear(in_features=120, out_features=60)\n",
    "        self.out = nn.Linear(in_features=60, out_features=10)\n",
    "        \n",
    "    \"\"\"\n",
    "    Implementation of forward function takes in a tensor t and transforms it using the dummy layer.\n",
    "    \"\"\"\n",
    "    def forward(self, t):\n",
    "        t = self.layer(t)\n",
    "        return t\n",
    "    \n",
    "net = Net()\n",
    "net"
   ]
  },
  {
   "cell_type": "code",
   "execution_count": 49,
   "metadata": {},
   "outputs": [
    {
     "data": {
      "text/plain": [
       "Conv2d(3, 6, kernel_size=(5, 5), stride=(1, 1))"
      ]
     },
     "execution_count": 49,
     "metadata": {},
     "output_type": "execute_result"
    }
   ],
   "source": [
    "net.conv1"
   ]
  },
  {
   "cell_type": "code",
   "execution_count": 50,
   "metadata": {},
   "outputs": [
    {
     "data": {
      "text/plain": [
       "Conv2d(6, 12, kernel_size=(5, 5), stride=(1, 1))"
      ]
     },
     "execution_count": 50,
     "metadata": {},
     "output_type": "execute_result"
    }
   ],
   "source": [
    "net.conv2"
   ]
  },
  {
   "cell_type": "code",
   "execution_count": 51,
   "metadata": {},
   "outputs": [
    {
     "data": {
      "text/plain": [
       "Linear(in_features=192, out_features=120, bias=True)"
      ]
     },
     "execution_count": 51,
     "metadata": {},
     "output_type": "execute_result"
    }
   ],
   "source": [
    "net.fc1"
   ]
  },
  {
   "cell_type": "code",
   "execution_count": 52,
   "metadata": {},
   "outputs": [
    {
     "data": {
      "text/plain": [
       "Linear(in_features=120, out_features=60, bias=True)"
      ]
     },
     "execution_count": 52,
     "metadata": {},
     "output_type": "execute_result"
    }
   ],
   "source": [
    "net.fc2"
   ]
  },
  {
   "cell_type": "code",
   "execution_count": 53,
   "metadata": {},
   "outputs": [
    {
     "data": {
      "text/plain": [
       "Linear(in_features=60, out_features=10, bias=True)"
      ]
     },
     "execution_count": 53,
     "metadata": {},
     "output_type": "execute_result"
    }
   ],
   "source": [
    "net.out"
   ]
  },
  {
   "cell_type": "markdown",
   "metadata": {},
   "source": [
    "Just like the network object returns a string **representation(__repr__)** of the object, we can get individual layer informations as well using the **dot(.)** notation. Lets look at the initialized weights inside this functions"
   ]
  },
  {
   "cell_type": "code",
   "execution_count": 54,
   "metadata": {},
   "outputs": [
    {
     "data": {
      "text/plain": [
       "Parameter containing:\n",
       "tensor([[[[-0.0366, -0.0529, -0.0544, -0.1039, -0.0145],\n",
       "          [ 0.0435, -0.0871,  0.0871, -0.0570,  0.0163],\n",
       "          [ 0.0150, -0.0685, -0.0948,  0.0476,  0.0396],\n",
       "          [ 0.1088, -0.0301, -0.0944, -0.0432, -0.0810],\n",
       "          [-0.0584,  0.0457, -0.1038, -0.1140, -0.0893]],\n",
       "\n",
       "         [[ 0.0818, -0.0213, -0.0510, -0.0255,  0.0568],\n",
       "          [ 0.1064, -0.0088,  0.0519, -0.0760,  0.1115],\n",
       "          [-0.0673,  0.0254, -0.0066, -0.0609, -0.1087],\n",
       "          [-0.0852, -0.0207,  0.1143, -0.0391, -0.0437],\n",
       "          [ 0.0175,  0.0110, -0.1077,  0.0396,  0.0775]],\n",
       "\n",
       "         [[ 0.0657,  0.1002, -0.1006,  0.0329, -0.0757],\n",
       "          [-0.0391,  0.0189,  0.0920,  0.0622, -0.0661],\n",
       "          [-0.0503,  0.0649,  0.0443, -0.0931,  0.0922],\n",
       "          [-0.0396, -0.1120, -0.0791,  0.0810, -0.0192],\n",
       "          [ 0.0907,  0.1060, -0.0251,  0.0452, -0.1018]]],\n",
       "\n",
       "\n",
       "        [[[-0.0610,  0.0050, -0.0174, -0.0181, -0.0592],\n",
       "          [-0.0520, -0.0900,  0.1116, -0.0051,  0.1070],\n",
       "          [ 0.0542, -0.1114,  0.1144, -0.0131,  0.0767],\n",
       "          [-0.0653,  0.0764,  0.0207,  0.0240,  0.0524],\n",
       "          [-0.0969, -0.0064, -0.0806,  0.0285, -0.0954]],\n",
       "\n",
       "         [[ 0.1050,  0.0233,  0.0735,  0.0983, -0.0712],\n",
       "          [ 0.0758, -0.0965,  0.0564, -0.0894,  0.0085],\n",
       "          [-0.0750, -0.0456,  0.0002,  0.0503,  0.0499],\n",
       "          [ 0.0288,  0.0596, -0.0261, -0.0452, -0.0021],\n",
       "          [-0.0948,  0.0365, -0.1145, -0.0722, -0.0288]],\n",
       "\n",
       "         [[-0.0049, -0.0426, -0.0700, -0.0885,  0.1096],\n",
       "          [ 0.0993,  0.0786, -0.0042,  0.0285,  0.0293],\n",
       "          [-0.0750,  0.0310, -0.0124, -0.0623,  0.0894],\n",
       "          [-0.0465,  0.0475, -0.0208,  0.0352,  0.0987],\n",
       "          [-0.0754,  0.0515, -0.0883,  0.0433,  0.0311]]],\n",
       "\n",
       "\n",
       "        [[[ 0.1085, -0.0135, -0.0419, -0.1144,  0.1020],\n",
       "          [-0.0182, -0.0709,  0.0359,  0.0822, -0.0258],\n",
       "          [-0.0589,  0.0264, -0.0032, -0.0950,  0.0466],\n",
       "          [ 0.0036,  0.0598, -0.1091,  0.1152,  0.0375],\n",
       "          [-0.0163,  0.0753, -0.0853,  0.1029,  0.0063]],\n",
       "\n",
       "         [[ 0.0435, -0.0490, -0.0930,  0.1048,  0.0315],\n",
       "          [-0.0598, -0.0672,  0.0339, -0.0766, -0.0634],\n",
       "          [ 0.0507,  0.0764,  0.0885, -0.0848,  0.0360],\n",
       "          [ 0.0802,  0.0489, -0.0522,  0.0184, -0.0887],\n",
       "          [-0.0005, -0.0540, -0.0201, -0.1020, -0.0800]],\n",
       "\n",
       "         [[-0.0511, -0.0167, -0.0202, -0.0305, -0.0442],\n",
       "          [-0.0747,  0.1112,  0.0975, -0.0941, -0.0331],\n",
       "          [-0.0635,  0.0707,  0.0995,  0.0148, -0.0855],\n",
       "          [-0.0471,  0.0199, -0.1119,  0.0731, -0.0666],\n",
       "          [-0.0293,  0.0179,  0.0968, -0.0900,  0.1008]]],\n",
       "\n",
       "\n",
       "        [[[ 0.0364,  0.1153,  0.0268,  0.0126, -0.0195],\n",
       "          [ 0.0183, -0.1088, -0.0678,  0.0313, -0.0944],\n",
       "          [ 0.0373, -0.0322, -0.0070,  0.1069,  0.0971],\n",
       "          [ 0.1019,  0.0827,  0.1010,  0.0724,  0.0482],\n",
       "          [ 0.0446,  0.0561, -0.0347, -0.0514,  0.0747]],\n",
       "\n",
       "         [[-0.0538, -0.0822,  0.0186,  0.0383, -0.0890],\n",
       "          [-0.1098,  0.0094, -0.0159, -0.0247,  0.0412],\n",
       "          [-0.0446,  0.1043, -0.0421,  0.0636, -0.0078],\n",
       "          [ 0.0550, -0.0117, -0.0496, -0.1143, -0.0306],\n",
       "          [-0.1093,  0.0154, -0.0508,  0.1109, -0.0306]],\n",
       "\n",
       "         [[ 0.0939, -0.0098, -0.0289,  0.1036,  0.0500],\n",
       "          [-0.0771, -0.0542, -0.0950, -0.0592,  0.0992],\n",
       "          [ 0.0004,  0.0897,  0.0233,  0.0715,  0.1061],\n",
       "          [ 0.0085,  0.1052, -0.0207, -0.0622, -0.0880],\n",
       "          [-0.0635,  0.0997, -0.0902, -0.0891, -0.1025]]],\n",
       "\n",
       "\n",
       "        [[[ 0.0305, -0.1048, -0.1127, -0.0214, -0.0599],\n",
       "          [-0.0562, -0.0737, -0.0535, -0.0058, -0.0595],\n",
       "          [ 0.0471, -0.0349, -0.0922,  0.0990,  0.0159],\n",
       "          [ 0.0939, -0.0015, -0.1104, -0.0676,  0.1146],\n",
       "          [ 0.0354,  0.1102,  0.0400,  0.1055,  0.0265]],\n",
       "\n",
       "         [[-0.0487,  0.0873,  0.1090,  0.0661, -0.0706],\n",
       "          [-0.0728, -0.0085,  0.0410,  0.0148,  0.0777],\n",
       "          [-0.0276, -0.0913, -0.0009,  0.0974,  0.0099],\n",
       "          [ 0.0632, -0.0092,  0.1132,  0.0636, -0.0169],\n",
       "          [-0.0813,  0.1014,  0.0626, -0.0686,  0.0227]],\n",
       "\n",
       "         [[ 0.0810,  0.0166,  0.1116,  0.0532,  0.0445],\n",
       "          [ 0.0683, -0.0637,  0.0117, -0.0367,  0.1033],\n",
       "          [-0.0582, -0.0731, -0.0883, -0.0852, -0.0803],\n",
       "          [-0.0839, -0.0842, -0.0423, -0.0968,  0.1134],\n",
       "          [-0.0004, -0.0532,  0.1082, -0.0731,  0.0768]]],\n",
       "\n",
       "\n",
       "        [[[ 0.0193,  0.0065,  0.1037,  0.0165,  0.1090],\n",
       "          [ 0.0142, -0.1008,  0.0083,  0.1078, -0.0780],\n",
       "          [ 0.0004,  0.0562, -0.1114,  0.0667,  0.0918],\n",
       "          [-0.0181,  0.0675,  0.0550,  0.0043,  0.0545],\n",
       "          [-0.0077,  0.1098, -0.0959,  0.0609, -0.0052]],\n",
       "\n",
       "         [[-0.0973,  0.0451,  0.0012, -0.0069, -0.0395],\n",
       "          [-0.0439, -0.0602, -0.0104, -0.0317, -0.0468],\n",
       "          [-0.0238,  0.0216,  0.0130,  0.0997,  0.0404],\n",
       "          [-0.0119,  0.0610, -0.0377,  0.0051,  0.1043],\n",
       "          [-0.0084,  0.0525,  0.0628,  0.0166,  0.0203]],\n",
       "\n",
       "         [[ 0.0101,  0.0282,  0.0541, -0.1003, -0.0345],\n",
       "          [ 0.0851,  0.0044,  0.0472,  0.0786,  0.0859],\n",
       "          [ 0.0860,  0.0287,  0.0925, -0.1010,  0.0771],\n",
       "          [ 0.0521, -0.0504, -0.0248, -0.0851, -0.1063],\n",
       "          [-0.0909,  0.0522,  0.0479,  0.0781, -0.0435]]]], requires_grad=True)"
      ]
     },
     "execution_count": 54,
     "metadata": {},
     "output_type": "execute_result"
    }
   ],
   "source": [
    "net.conv1.weight"
   ]
  },
  {
   "cell_type": "markdown",
   "metadata": {},
   "source": [
    "Above output proves that each filter has different kernels. We can see, each filter has 3 kernels (each unique in nature) of size 5x5. They are randomly initialized. These 3 kernels together make up a filter. Since a filter has 3 kernels and there are 6 filters, we have total of 18 kernels. Since image is a color image, a filter has 3 kernels each corresponding to an RGB channel. If grayscale, then each filter will have only 1 kernel."
   ]
  },
  {
   "cell_type": "code",
   "execution_count": 55,
   "metadata": {},
   "outputs": [
    {
     "data": {
      "text/plain": [
       "torch.Size([6, 3, 5, 5])"
      ]
     },
     "execution_count": 55,
     "metadata": {},
     "output_type": "execute_result"
    }
   ],
   "source": [
    "net.conv1.weight.shape"
   ]
  },
  {
   "cell_type": "code",
   "execution_count": 56,
   "metadata": {},
   "outputs": [
    {
     "data": {
      "text/plain": [
       "torch.Size([12, 6, 5, 5])"
      ]
     },
     "execution_count": 56,
     "metadata": {},
     "output_type": "execute_result"
    }
   ],
   "source": [
    "net.conv2.weight.shape"
   ]
  },
  {
   "cell_type": "code",
   "execution_count": 57,
   "metadata": {},
   "outputs": [
    {
     "data": {
      "text/plain": [
       "torch.Size([120, 192])"
      ]
     },
     "execution_count": 57,
     "metadata": {},
     "output_type": "execute_result"
    }
   ],
   "source": [
    "net.fc1.weight.shape"
   ]
  },
  {
   "cell_type": "code",
   "execution_count": 58,
   "metadata": {},
   "outputs": [
    {
     "data": {
      "text/plain": [
       "torch.Size([60, 120])"
      ]
     },
     "execution_count": 58,
     "metadata": {},
     "output_type": "execute_result"
    }
   ],
   "source": [
    "net.fc2.weight.shape"
   ]
  },
  {
   "cell_type": "code",
   "execution_count": 59,
   "metadata": {},
   "outputs": [
    {
     "data": {
      "text/plain": [
       "torch.Size([10, 60])"
      ]
     },
     "execution_count": 59,
     "metadata": {},
     "output_type": "execute_result"
    }
   ],
   "source": [
    "net.out.weight.shape"
   ]
  },
  {
   "cell_type": "markdown",
   "metadata": {},
   "source": []
  },
  {
   "cell_type": "code",
   "execution_count": 60,
   "metadata": {},
   "outputs": [
    {
     "data": {
      "text/plain": [
       "torch.Size([3, 5, 5])"
      ]
     },
     "execution_count": 60,
     "metadata": {},
     "output_type": "execute_result"
    }
   ],
   "source": [
    "net.conv1.weight[0].shape"
   ]
  },
  {
   "cell_type": "markdown",
   "metadata": {},
   "source": [
    "Fully connected layers weight matrix called a linear map. It maps a higher dimensional space into lower dimension."
   ]
  },
  {
   "cell_type": "code",
   "execution_count": null,
   "metadata": {},
   "outputs": [],
   "source": []
  }
 ],
 "metadata": {
  "kernelspec": {
   "display_name": "Python 3",
   "language": "python",
   "name": "python3"
  },
  "language_info": {
   "codemirror_mode": {
    "name": "ipython",
    "version": 3
   },
   "file_extension": ".py",
   "mimetype": "text/x-python",
   "name": "python",
   "nbconvert_exporter": "python",
   "pygments_lexer": "ipython3",
   "version": "3.6.9"
  }
 },
 "nbformat": 4,
 "nbformat_minor": 4
}
