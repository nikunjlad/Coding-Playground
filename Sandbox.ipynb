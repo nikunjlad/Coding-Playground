{
 "cells": [
  {
   "cell_type": "code",
   "execution_count": 27,
   "metadata": {},
   "outputs": [
    {
     "name": "stdout",
     "output_type": "stream",
     "text": [
      "[-1, -1, 0, 1, 2]\n"
     ]
    }
   ],
   "source": [
    "# A = [-1, 0, 1, 2, 3]\n",
    "\n",
    "def solution(D, A):\n",
    "    \n",
    "    ancestors = list()\n",
    "    for i in range(len(A)):\n",
    "        temp = D\n",
    "        while temp > 0:\n",
    "            i = max(-1, A[i])\n",
    "            temp -= 1\n",
    "            if(i < 0):\n",
    "                break\n",
    "        \n",
    "        ancestors.append(i)\n",
    "        \n",
    "        # new_index = max(-1, index - D)\n",
    "        # ancestors.append(new_index)\n",
    "    print(ancestors)\n",
    "    \n",
    "solution(2, [-1, 0, 1, 2, 3])"
   ]
  },
  {
   "cell_type": "code",
   "execution_count": 44,
   "metadata": {},
   "outputs": [
    {
     "name": "stdout",
     "output_type": "stream",
     "text": [
      "[5, 11, 16]\n"
     ]
    }
   ],
   "source": [
    "# stores = [1, 5, 20, 9, 16]\n",
    "# houses = [5, 10, 17]\n",
    "\n",
    "def solution(stores, houses):\n",
    "    \n",
    "    near = list()\n",
    "    for house in houses:\n",
    "        dist = [abs(house - store) for store in stores]\n",
    "        near.append(stores[[abs(house - store) for store in stores].index(min(dist))])    \n",
    "                           \n",
    "    print(near)\n",
    "           \n",
    "solution([1, 5, 20, 11, 16], [5, 10, 17])\n",
    "        "
   ]
  },
  {
   "cell_type": "code",
   "execution_count": 57,
   "metadata": {},
   "outputs": [
    {
     "name": "stdout",
     "output_type": "stream",
     "text": [
      "[-1, -1, -1, 0, 1]\n"
     ]
    }
   ],
   "source": [
    "D = 2\n",
    "A = [-1, 0, 1, 2, 3]\n",
    "B = A\n",
    "for i in range(D):\n",
    "    B=[A[0 if B[i]==-1 else B[i]] for i in range(len(A))]\n",
    "\n",
    "print(B)"
   ]
  },
  {
   "cell_type": "code",
   "execution_count": 68,
   "metadata": {},
   "outputs": [
    {
     "name": "stdout",
     "output_type": "stream",
     "text": [
      "3\n"
     ]
    }
   ],
   "source": [
    "def count_substring(string, sub_string):\n",
    "\n",
    "    count = 0\n",
    "    for i in range(len(string) - len(sub_string) + 1):\n",
    "        if string[i:i + len(sub_string)] == sub_string:\n",
    "            count += 1\n",
    "    \n",
    "    return count\n",
    "\n",
    "count = count_substring('ABCDCDCBADCDC', 'CDC')\n",
    "print(count)"
   ]
  },
  {
   "cell_type": "code",
   "execution_count": 69,
   "metadata": {},
   "outputs": [
    {
     "name": "stdout",
     "output_type": "stream",
     "text": [
      "h\n",
      "e\n",
      "l\n",
      "l\n",
      "o\n"
     ]
    }
   ],
   "source": [
    "for a in \"hello\":\n",
    "    print(a)"
   ]
  },
  {
   "cell_type": "code",
   "execution_count": 8,
   "metadata": {},
   "outputs": [
    {
     "name": "stdout",
     "output_type": "stream",
     "text": [
      "True\n",
      "True\n",
      "True\n",
      "True\n",
      "True\n"
     ]
    }
   ],
   "source": [
    "strr = 'qA2#'\n",
    "\n",
    "print(any([c.isalnum() for c in strr]))\n",
    "print(any([c.isalpha() for c in strr]))\n",
    "print(any([c.isdigit() for c in strr]))\n",
    "print(any([c.islower() for c in strr]))\n",
    "print(any([c.isupper() for c in strr]))"
   ]
  },
  {
   "cell_type": "markdown",
   "metadata": {},
   "source": [
    "We are given a string S consisting of N characters and an integer K. The string represents a software license key which we would like to format. The string is composed of alphanumerical characters and/or dashes. The dashes split the alphanumerical characters within the string into groups (i.e. if there are M dashes, the string is split into M+1 groups). The dashes in the given string are possibly misplaced.\n",
    "\n",
    "We want each group of characters to be of length K (except for possibly the first group, which could be shorter, but still must contain at least one character). To satisfy this requirement, we will reinsert the dashes. Additionally, all the lower case letters in the string must be converted to upper case.\n",
    "\n",
    "For example, in the license key \"2-4A0r7-4k\" there are two dashes which split it into three groups of lengths 1, 5 and 2, respectively. If we want each group to be of length 4, then we would have to reinsert the dashes. Thus, for K = 4, the correctly formatted string is \"24A0-R74K\".\n",
    "\n",
    "Write a function:\n",
    "\n",
    "def solution(S, K)\n",
    "\n",
    "that, given a non-empty string S consisting of N characters, representing a license key to format, and an integer K, returns the license key formatted according to the description above.\n",
    "\n",
    "For example, given S = \"2-4A0r7-4k\" and K = 4, the function should return \"24A0-R74K\", and for K = 3, the function should return \"24-A0R-74K\" as the first group could be shorter. Given S = \"r\" and K = 1, the function should return \"R\".\n",
    "\n",
    "Write an efficient algorithm for the following assumptions:\n",
    "\n",
    "N and K are integers within the range [1..300,000];\n",
    "string S consists only of alphanumerical characters (a−z and/or A−Z and/or 0−9) and/or dashes (-);\n",
    "string S contains at least one alphanumerical character\n"
   ]
  },
  {
   "cell_type": "code",
   "execution_count": 1,
   "metadata": {},
   "outputs": [
    {
     "data": {
      "text/plain": [
       "'24-A0R-74K'"
      ]
     },
     "execution_count": 1,
     "metadata": {},
     "output_type": "execute_result"
    }
   ],
   "source": [
    "def solution(S, K):\n",
    "    \n",
    "    if len(S) == 1:\n",
    "        return S.upper()\n",
    "    else:\n",
    "        \n",
    "        splitted = S.split('-')\n",
    "        len_split = [len(p) for p in splitted]\n",
    "\n",
    "        if len(set(len_split[1:])) == 1:\n",
    "            joined = \"-\".join(splitted)\n",
    "            return joined.upper()\n",
    "        else:\n",
    "            just_string = \"\".join(splitted)\n",
    "            d = [just_string[-K - i: len(just_string) - i] for i in range(0, len(just_string), K)]\n",
    "            d = d[::-1]\n",
    "            joined = \"-\".join(d)\n",
    "            return joined.upper()\n",
    "\n",
    "solution('2-4A0r7-4k', 3)"
   ]
  },
  {
   "cell_type": "code",
   "execution_count": 71,
   "metadata": {},
   "outputs": [
    {
     "name": "stdout",
     "output_type": "stream",
     "text": [
      "[-1, 1, 2]\n",
      "0\n",
      "[1, -1, -2]\n"
     ]
    }
   ],
   "source": [
    "def solution(A):\n",
    "    \n",
    "    count = 0\n",
    "    for i in range(1, len(A)):\n",
    "        if i == len(A) - 1:\n",
    "            count += 1\n",
    "        else:\n",
    "            a = [A[j] - A[i] for j in range(i + 1,len(A))]\n",
    "            print(a)\n",
    "#             jump = 0\n",
    "#             for k in range(i, len(A)):\n",
    "#                 if k < mval and mval > 0:\n",
    "#                     mval = k\n",
    "#             print(mval)\n",
    "            b = a.index(min(a))\n",
    "            print(b)\n",
    "            c = [A[b + 1] - A[k] for k in range(b + 2, len(A))]\n",
    "            print(c)\n",
    "            \n",
    "            if i == 1:\n",
    "                break\n",
    "            \n",
    "    \n",
    "    return\n",
    "    \n",
    "A = [10, 13, 12, 14, 15]\n",
    "solution(A)"
   ]
  },
  {
   "cell_type": "code",
   "execution_count": 70,
   "metadata": {},
   "outputs": [
    {
     "name": "stdout",
     "output_type": "stream",
     "text": [
      "3\n"
     ]
    }
   ],
   "source": [
    "def solution(S, E):\n",
    "    \n",
    "    chairs = 0\n",
    "    \n",
    "    total_time = list(set(S + E))\n",
    "    time_dict = dict.fromkeys(total_time,0)\n",
    "    \n",
    "    max_time = max(S)\n",
    "    \n",
    "    for i in range(len(total_time)):\n",
    "        \n",
    "        if i > max_time:\n",
    "            continue\n",
    "        else:\n",
    "            if i in S:\n",
    "                ind = S.index(i)\n",
    "                time_dict[i] += 1\n",
    "                if i != max_time:\n",
    "                    E_key = E[ind]\n",
    "                    time_dict[E_key] -= 1\n",
    "                \n",
    "    for i in time_dict.keys():\n",
    "        if i <= max_time:\n",
    "            chairs += time_dict[i]\n",
    "            \n",
    "    return chairs + 1\n",
    "\n",
    "S = [1, 2, 6, 5, 3]\n",
    "E = [5, 5, 7, 6, 8]\n",
    "chairs = solution(S, E)\n",
    "print(chairs)"
   ]
  },
  {
   "cell_type": "code",
   "execution_count": 73,
   "metadata": {},
   "outputs": [
    {
     "name": "stdout",
     "output_type": "stream",
     "text": [
      "[0, 2, 4] [1, 3, 5]\n",
      "Stuart 12\n"
     ]
    }
   ],
   "source": [
    "#Problem ques: https://www.hackerrank.com/challenges/the-minion-game/problem\n",
    "    \n",
    "def minion_game(string):\n",
    "    vowel_indices = list()\n",
    "    consonant_indices = list()\n",
    "    vowel_list = [vowel_indices.append(i) if a in 'AEIOU' else consonant_indices.append(i) for i,a in enumerate(string)]\n",
    "    \n",
    "    stuart_score = 0\n",
    "    kevin_score = 0\n",
    "    len_str = len(string)\n",
    "    \n",
    "    for i in consonant_indices:\n",
    "        stuart_score += (len_str - i)\n",
    "            \n",
    "    for k in vowel_indices:\n",
    "        kevin_score += (len_str - k)\n",
    "\n",
    "    if stuart_score > kevin_score: \n",
    "        print(\"Stuart\", stuart_score)\n",
    "    elif kevin_score > stuart_score: \n",
    "        print(\"Kevin\", kevin_score)\n",
    "    else:\n",
    "        print(\"Draw\")\n",
    "        \n",
    "minion_game(\"BANANA\")"
   ]
  },
  {
   "cell_type": "code",
   "execution_count": 80,
   "metadata": {},
   "outputs": [
    {
     "data": {
      "text/plain": [
       "'go'"
      ]
     },
     "execution_count": 80,
     "metadata": {},
     "output_type": "execute_result"
    }
   ],
   "source": [
    "# https://www.hackerrank.com/challenges/merge-the-tools/problem?h_r=next-challenge&h_v=zen\n",
    "\n",
    "def merge_the_tools(string, k):\n",
    "    \n",
    "    \n",
    "    pass\n",
    "\n",
    "merge_the_tools('AABCAAADA',3)\n",
    "a = \"flamingo\"\n",
    "a[6:8]"
   ]
  },
  {
   "cell_type": "code",
   "execution_count": 81,
   "metadata": {},
   "outputs": [
    {
     "name": "stdout",
     "output_type": "stream",
     "text": [
      "['e', 'i', 'l', 'n', 's', 't']\n"
     ]
    }
   ],
   "source": [
    "print(sorted(\"silent\"))"
   ]
  },
  {
   "cell_type": "code",
   "execution_count": 82,
   "metadata": {},
   "outputs": [
    {
     "name": "stdout",
     "output_type": "stream",
     "text": [
      "['e', 'i', 'l', 'n', 's', 't']\n"
     ]
    }
   ],
   "source": [
    "print(sorted(\"listen\"))"
   ]
  },
  {
   "cell_type": "code",
   "execution_count": 91,
   "metadata": {},
   "outputs": [
    {
     "ename": "TypeError",
     "evalue": "adding() takes 2 positional arguments but 3 were given",
     "output_type": "error",
     "traceback": [
      "\u001b[0;31m---------------------------------------------------------------------------\u001b[0m",
      "\u001b[0;31mTypeError\u001b[0m                                 Traceback (most recent call last)",
      "\u001b[0;32m<ipython-input-91-6cb616e3c587>\u001b[0m in \u001b[0;36m<module>\u001b[0;34m()\u001b[0m\n\u001b[1;32m      5\u001b[0m \u001b[0;34m\u001b[0m\u001b[0m\n\u001b[1;32m      6\u001b[0m \u001b[0mg\u001b[0m \u001b[0;34m=\u001b[0m \u001b[0mhello\u001b[0m\u001b[0;34m(\u001b[0m\u001b[0;34m)\u001b[0m\u001b[0;34m\u001b[0m\u001b[0;34m\u001b[0m\u001b[0m\n\u001b[0;32m----> 7\u001b[0;31m \u001b[0mval\u001b[0m \u001b[0;34m=\u001b[0m \u001b[0mg\u001b[0m\u001b[0;34m.\u001b[0m\u001b[0madding\u001b[0m\u001b[0;34m(\u001b[0m\u001b[0;36m5\u001b[0m\u001b[0;34m,\u001b[0m\u001b[0;36m4\u001b[0m\u001b[0;34m)\u001b[0m\u001b[0;34m\u001b[0m\u001b[0;34m\u001b[0m\u001b[0m\n\u001b[0m",
      "\u001b[0;31mTypeError\u001b[0m: adding() takes 2 positional arguments but 3 were given"
     ]
    }
   ],
   "source": [
    "class hello:\n",
    "    \n",
    "    def adding(a,b):\n",
    "        return a + b\n",
    "    \n",
    "g = hello()\n",
    "val = g.adding(5,4)"
   ]
  },
  {
   "cell_type": "code",
   "execution_count": 1,
   "metadata": {},
   "outputs": [
    {
     "data": {
      "text/plain": [
       "'nan'"
      ]
     },
     "execution_count": 1,
     "metadata": {},
     "output_type": "execute_result"
    }
   ],
   "source": [
    "a = 'banana'\n",
    "a[2:5]"
   ]
  },
  {
   "cell_type": "code",
   "execution_count": 2,
   "metadata": {},
   "outputs": [
    {
     "data": {
      "text/plain": [
       "1.25"
      ]
     },
     "execution_count": 2,
     "metadata": {},
     "output_type": "execute_result"
    }
   ],
   "source": [
    "5.0 / 4"
   ]
  },
  {
   "cell_type": "code",
   "execution_count": 3,
   "metadata": {},
   "outputs": [
    {
     "data": {
      "text/plain": [
       "4.0"
      ]
     },
     "execution_count": 3,
     "metadata": {},
     "output_type": "execute_result"
    }
   ],
   "source": [
    "4 / 1.0"
   ]
  },
  {
   "cell_type": "code",
   "execution_count": 14,
   "metadata": {},
   "outputs": [
    {
     "name": "stdout",
     "output_type": "stream",
     "text": [
      "[19, 17, 15, 13, 11, 9, 7, 5, 3, 1, 'Howdy']\n"
     ]
    }
   ],
   "source": [
    "lst = list()\n",
    "\n",
    "def recur(x):\n",
    "    \n",
    "    if x == 0: \n",
    "        lst.append(\"Howdy!;\")\n",
    "    elif x % 2 == 0: \n",
    "        recur(x - 1)\n",
    "    else: \n",
    "        lst.append(x)\n",
    "        recur(x - 1)\n",
    "        \n",
    "recur(20)\n",
    "print(lst)"
   ]
  },
  {
   "cell_type": "code",
   "execution_count": 1,
   "metadata": {},
   "outputs": [
    {
     "ename": "TypeError",
     "evalue": "super() argument 1 must be type, not str",
     "output_type": "error",
     "traceback": [
      "\u001b[0;31m---------------------------------------------------------------------------\u001b[0m",
      "\u001b[0;31mTypeError\u001b[0m                                 Traceback (most recent call last)",
      "\u001b[0;32m<ipython-input-1-bbdc05a050c4>\u001b[0m in \u001b[0;36m<module>\u001b[0;34m()\u001b[0m\n\u001b[1;32m     17\u001b[0m         \u001b[0mprint\u001b[0m\u001b[0;34m(\u001b[0m\u001b[0;34m\"My name is \"\u001b[0m \u001b[0;34m+\u001b[0m \u001b[0mself\u001b[0m\u001b[0;34m.\u001b[0m\u001b[0mname\u001b[0m \u001b[0;34m+\u001b[0m \u001b[0;34m\"and I usually \"\u001b[0m \u001b[0;34m+\u001b[0m \u001b[0mself\u001b[0m\u001b[0;34m.\u001b[0m\u001b[0maction\u001b[0m\u001b[0;34m)\u001b[0m\u001b[0;34m\u001b[0m\u001b[0;34m\u001b[0m\u001b[0m\n\u001b[1;32m     18\u001b[0m \u001b[0;34m\u001b[0m\u001b[0m\n\u001b[0;32m---> 19\u001b[0;31m \u001b[0ma\u001b[0m \u001b[0;34m=\u001b[0m \u001b[0mDog\u001b[0m\u001b[0;34m(\u001b[0m\u001b[0;34m\"sit\"\u001b[0m\u001b[0;34m,\u001b[0m \u001b[0;34m\"Aldo\"\u001b[0m\u001b[0;34m)\u001b[0m\u001b[0;34m\u001b[0m\u001b[0;34m\u001b[0m\u001b[0m\n\u001b[0m\u001b[1;32m     20\u001b[0m \u001b[0ma\u001b[0m\u001b[0;34m.\u001b[0m\u001b[0mintro\u001b[0m\u001b[0;34m(\u001b[0m\u001b[0;34m)\u001b[0m\u001b[0;34m\u001b[0m\u001b[0;34m\u001b[0m\u001b[0m\n",
      "\u001b[0;32m<ipython-input-1-bbdc05a050c4>\u001b[0m in \u001b[0;36m__init__\u001b[0;34m(self, action, name)\u001b[0m\n\u001b[1;32m     11\u001b[0m \u001b[0;34m\u001b[0m\u001b[0m\n\u001b[1;32m     12\u001b[0m     \u001b[0;32mdef\u001b[0m \u001b[0m__init__\u001b[0m\u001b[0;34m(\u001b[0m\u001b[0mself\u001b[0m\u001b[0;34m,\u001b[0m \u001b[0maction\u001b[0m\u001b[0;34m,\u001b[0m \u001b[0mname\u001b[0m\u001b[0;34m)\u001b[0m\u001b[0;34m:\u001b[0m\u001b[0;34m\u001b[0m\u001b[0;34m\u001b[0m\u001b[0m\n\u001b[0;32m---> 13\u001b[0;31m         \u001b[0msuper\u001b[0m\u001b[0;34m(\u001b[0m\u001b[0maction\u001b[0m\u001b[0;34m)\u001b[0m\u001b[0;34m\u001b[0m\u001b[0;34m\u001b[0m\u001b[0m\n\u001b[0m\u001b[1;32m     14\u001b[0m         \u001b[0mself\u001b[0m\u001b[0;34m.\u001b[0m\u001b[0mname\u001b[0m \u001b[0;34m=\u001b[0m \u001b[0mname\u001b[0m\u001b[0;34m\u001b[0m\u001b[0;34m\u001b[0m\u001b[0m\n\u001b[1;32m     15\u001b[0m \u001b[0;34m\u001b[0m\u001b[0m\n",
      "\u001b[0;31mTypeError\u001b[0m: super() argument 1 must be type, not str"
     ]
    }
   ],
   "source": [
    "class Animal:\n",
    "    \n",
    "    def __init__(self, action):\n",
    "        self.action = action\n",
    "        \n",
    "    def perform(self):\n",
    "        print(self.action)\n",
    "    \n",
    "    \n",
    "class Dog(Animal):\n",
    "    \n",
    "    def __init__(self, action, name):\n",
    "        super(action)\n",
    "        self.name = name\n",
    "    \n",
    "    def intro(self):\n",
    "        print(\"My name is \" + self.name + \"and I usually \" + self.action)\n",
    "    \n",
    "a = Dog(\"sit\", \"Aldo\")\n",
    "a.intro()"
   ]
  },
  {
   "cell_type": "markdown",
   "metadata": {},
   "source": [
    "# Karatsuba Algorithm"
   ]
  },
  {
   "cell_type": "code",
   "execution_count": 11,
   "metadata": {},
   "outputs": [
    {
     "name": "stdout",
     "output_type": "stream",
     "text": [
      "7006652\n"
     ]
    }
   ],
   "source": [
    "def karatsuba(num1, num2):\n",
    "    \n",
    "    if len(str(num1)) == 1 or len(str(num2)) == 1:\n",
    "        return num1 * num2\n",
    "    else:\n",
    "        factor = max(len(str(num1)), len(str(num2)))\n",
    "        nby2 = int(factor / 2)\n",
    "        \n",
    "        a = int(num1 / 10 ** (nby2))\n",
    "        b = num1 % 10 ** (nby2)\n",
    "         \n",
    "        c = int(num2 / 10 ** (nby2))\n",
    "        d = num2 % 10 ** (nby2)\n",
    "    \n",
    "        ac = karatsuba(a, c)\n",
    "        bd = karatsuba(b, d)\n",
    "        ad_bc = karatsuba(a + b, c + d) - ac - bd\n",
    "        prod = (10 ** (2 * nby2) * ac) + ((10 ** nby2) * ad_bc) + bd\n",
    "        \n",
    "        return prod\n",
    "    \n",
    "ans = karatsuba(1234, 5678)\n",
    "print(ans)"
   ]
  },
  {
   "cell_type": "markdown",
   "metadata": {},
   "source": [
    "# Merge Sort Algorithm"
   ]
  },
  {
   "cell_type": "code",
   "execution_count": 5,
   "metadata": {},
   "outputs": [
    {
     "name": "stdout",
     "output_type": "stream",
     "text": [
      "4837721833\n"
     ]
    }
   ],
   "source": [
    "strings = 'Hello Students'\n",
    "sums = 0\n",
    "for i in range(len(strings)):\n",
    "    \n",
    "    sums += (ord(strings[i]) * 31 ** (len(strings) - 1 - i)) % (10 ** 9 + 7)\n",
    "    \n",
    "print(sums)"
   ]
  },
  {
   "cell_type": "code",
   "execution_count": null,
   "metadata": {},
   "outputs": [],
   "source": []
  }
 ],
 "metadata": {
  "kernelspec": {
   "display_name": "Python 3",
   "language": "python",
   "name": "python3"
  },
  "language_info": {
   "codemirror_mode": {
    "name": "ipython",
    "version": 3
   },
   "file_extension": ".py",
   "mimetype": "text/x-python",
   "name": "python",
   "nbconvert_exporter": "python",
   "pygments_lexer": "ipython3",
   "version": "3.6.7"
  }
 },
 "nbformat": 4,
 "nbformat_minor": 2
}
