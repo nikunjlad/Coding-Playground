{
 "cells": [
  {
   "cell_type": "markdown",
   "metadata": {},
   "source": [
    "# Trees\n",
    "\n",
    "## Binary Tree - PreOrder Traversal, InOrder Traversal and PostOrder Traversal\n",
    "\n",
    "\n",
    "1. PreOrder Traversal - First root, then left subtree then right subtree\n",
    "2. InOrder Traversal - First left subtree, then root then right subtree (Mathematical computations) \n",
    "3. PostOrder Traversal - First left subtree, then right subtree then root node (Infix Stack operations using )"
   ]
  },
  {
   "cell_type": "code",
   "execution_count": 27,
   "metadata": {},
   "outputs": [
    {
     "name": "stdout",
     "output_type": "stream",
     "text": [
      "4\n",
      "9\n",
      "2\n",
      "6\n",
      "7\n",
      "1\n",
      "Pre Order Traversal:  [5, None, None, 5, None, None, 5]\n"
     ]
    }
   ],
   "source": [
    "# Definition for a binary tree node.\n",
    "class TreeNode:\n",
    "    def __init__(self, x):\n",
    "        self.val = x\n",
    "        self.left = None\n",
    "        self.right = None\n",
    "\n",
    "class Solution:\n",
    "    \n",
    "    pre = []\n",
    "    \n",
    "    def PreOrder(self, root):\n",
    "\n",
    "        if root:\n",
    "\n",
    "            # first root value is printed in pre order\n",
    "            pre.append(root.val)\n",
    "            \n",
    "            # then left subtree\n",
    "            PreOrder(root.left)\n",
    "            \n",
    "            # then right subtree\n",
    "            PreOrder(root.right)\n",
    "        \n",
    "        return pre\n",
    "\n",
    "    def InOrder(self, root):\n",
    "\n",
    "        if root:\n",
    "\n",
    "            InOrder(root.left)\n",
    "\n",
    "            print(root.val),\n",
    "\n",
    "            InOrder(root.right)\n",
    "\n",
    "    def PostOrder(self, root):\n",
    "\n",
    "        if root:\n",
    "\n",
    "            PostOrder(root.left)\n",
    "\n",
    "            PostOrder(root.right)\n",
    "\n",
    "            print(root.val),\n",
    "            \n",
    "\n",
    "node = TreeNode(5)\n",
    "node.left = TreeNode(4)\n",
    "node.right = TreeNode(6)\n",
    "node.left.left = TreeNode(9)\n",
    "node.left.right = TreeNode(2)\n",
    "node.right.left = TreeNode(7)\n",
    "node.right.right = TreeNode(1)\n",
    "\n",
    "s = Solution()\n",
    "pre = s.PreOrder(node)\n",
    "print(\"Pre Order Traversal: \", pre)"
   ]
  },
  {
   "cell_type": "code",
   "execution_count": 34,
   "metadata": {},
   "outputs": [
    {
     "name": "stdout",
     "output_type": "stream",
     "text": [
      "111\n",
      "4837721833\n"
     ]
    },
    {
     "data": {
      "text/plain": [
       "-211539"
      ]
     },
     "execution_count": 34,
     "metadata": {},
     "output_type": "execute_result"
    }
   ],
   "source": [
    "val = \"Hello Students\"\n",
    "print(ord(val[4]))\n",
    "\n",
    "hashed = 0\n",
    "\n",
    "for i in range(len(val)):\n",
    "    \n",
    "    hashed += (ord(val[i]) * (31 ** (len(val) - 1 - i))) % (10 ** 9 + 7)\n",
    "    \n",
    "print(hashed)\n",
    "hashed - 4837933372"
   ]
  },
  {
   "cell_type": "code",
   "execution_count": null,
   "metadata": {},
   "outputs": [],
   "source": []
  }
 ],
 "metadata": {
  "kernelspec": {
   "display_name": "Python 3",
   "language": "python",
   "name": "python3"
  },
  "language_info": {
   "codemirror_mode": {
    "name": "ipython",
    "version": 3
   },
   "file_extension": ".py",
   "mimetype": "text/x-python",
   "name": "python",
   "nbconvert_exporter": "python",
   "pygments_lexer": "ipython3",
   "version": "3.6.7"
  }
 },
 "nbformat": 4,
 "nbformat_minor": 2
}
